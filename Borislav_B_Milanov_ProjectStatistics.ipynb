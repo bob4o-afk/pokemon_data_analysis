{
  "nbformat": 4,
  "nbformat_minor": 0,
  "metadata": {
    "colab": {
      "provenance": [],
      "collapsed_sections": [
        "FE9aSmvNSgAk",
        "-DKxiYb2S9IA",
        "Sc3ihhJcZQLT"
      ]
    },
    "kernelspec": {
      "name": "python3",
      "display_name": "Python 3"
    },
    "language_info": {
      "name": "python"
    }
  },
  "cells": [
    {
      "cell_type": "markdown",
      "source": [
        "\n",
        "Линк към заданието на Проект - статистика: [задание](https://docs.google.com/document/d/1ExdNre1RGcy22nhEUMqt2QOm3Mp6VENpzWc5nc420k8/edit?usp=drive_link)\n",
        "\n",
        "\n",
        "\n"
      ],
      "metadata": {
        "id": "GiZr5mu1JPsB"
      }
    },
    {
      "cell_type": "markdown",
      "source": [
        "# Task 1"
      ],
      "metadata": {
        "id": "s7WNHaEmGkFT"
      }
    },
    {
      "cell_type": "code",
      "source": [
        "import csv\n",
        "from difflib import get_close_matches\n",
        "\n",
        "#Importing libraries"
      ],
      "metadata": {
        "id": "GpFlSnU_G4TD"
      },
      "execution_count": null,
      "outputs": []
    },
    {
      "cell_type": "markdown",
      "source": [
        "# Функция за запазване на променени данни в нов нов файл\n",
        "Идеята на тази функция е, че ние вземаме промените от другите функции, след като са били изпълнени, и ги запазваме в нов файл, който ще бъде използван по-късно - по този начин имаме последователни и правилни данни\n"
      ],
      "metadata": {
        "id": "yFfht0CgD0KX"
      }
    },
    {
      "cell_type": "code",
      "source": [
        "def save_changes_to_csv(changes):\n",
        "    with open(\"/content/sample_data/pokemon_stats_fixed.csv\", 'w', newline='') as changes_file:\n",
        "        fieldnames = ['name', 'height', 'weight', 'type', 'secundary type', 'hp', 'attack', 'defense', 'sp atk', 'sp def', 'speed']\n",
        "        writer = csv.DictWriter(changes_file, fieldnames=fieldnames)\n",
        "        writer.writeheader()\n",
        "        for pokemon, data in changes.items():\n",
        "            writer.writerow({'name': pokemon,\n",
        "                             'height': data.get('height'),\n",
        "                             'weight': data.get('weight'),\n",
        "                             'type': data.get('type'),\n",
        "                             'secundary type': data.get('secundary type'),\n",
        "                             'hp': data.get('hp'),\n",
        "                             'attack': data.get('attack'),\n",
        "                             'defense': data.get('defense'),\n",
        "                             'sp atk': data.get('sp atk'),\n",
        "                             'sp def': data.get('sp def'),\n",
        "                             'speed': data.get('speed')})\n"
      ],
      "metadata": {
        "id": "cO8Z6lxFJyfy"
      },
      "execution_count": null,
      "outputs": []
    },
    {
      "cell_type": "markdown",
      "source": [
        "# Функция за четене от файл\n",
        "\n",
        "Тази функция се използва за еднократно чете от файл"
      ],
      "metadata": {
        "id": "7bVtdtZFN9hC"
      }
    },
    {
      "cell_type": "code",
      "source": [
        "def read_file(filename):\n",
        "  rows = []\n",
        "  with open(filename, 'r', newline='') as file:\n",
        "      reader = csv.DictReader(file)\n",
        "      for row in reader:\n",
        "          rows.append(row)\n",
        "\n",
        "  return rows"
      ],
      "metadata": {
        "id": "XnUpk5eGNQs-"
      },
      "execution_count": null,
      "outputs": []
    },
    {
      "cell_type": "markdown",
      "source": [
        "# Функция за принтиране на колони\n",
        "\n",
        "Тази функция принтира форматирано колоните"
      ],
      "metadata": {
        "id": "xP6tXtxiOTW9"
      }
    },
    {
      "cell_type": "code",
      "source": [
        "def print_rows(rows):\n",
        "    print(\"{:<15} {:<7} {:<7} {:<10} {:<15} {:<3} {:<5} {:<7} {:<6} {:<6} {:<5}\".format(\n",
        "        'Name', 'Height', 'Weight', 'Type', 'Secondary Type', 'HP', 'Attack', 'Defense', 'Sp Atk', 'Sp Def', 'Speed'))\n",
        "\n",
        "    for row in rows:\n",
        "        print(\"{:<15} {:<7} {:<7} {:<10} {:<15} {:<3} {:<5} {:<7} {:<6} {:<6} {:<5}\".format(\n",
        "            row['name'], row['height'], row['weight'], row['type'], row['secundary type'],\n",
        "            row['hp'], row['attack'], row['defense'], row['sp atk'], row['sp def'], row['speed']))\n"
      ],
      "metadata": {
        "id": "uktrrdeaNqHY"
      },
      "execution_count": null,
      "outputs": []
    },
    {
      "cell_type": "markdown",
      "source": [
        "# Функция за премахване на дубликиращи се елементи\n",
        "В тази фунцкия използвам структурата от данни наречена \"dictionary\", която при добавяне на елемент игногира ако вече има същестуващи данни със същия ключ - за ключ ползвам името на покемона, защото това не трябва да се повтаря!\n",
        "\n",
        "\n",
        "Наблюденията ми след изпълняването на фунцията ми са, че няма повтарящи се имена.\n"
      ],
      "metadata": {
        "id": "9xC3TIFxELPM"
      }
    },
    {
      "cell_type": "code",
      "source": [
        "def remove_duplicates(filename):\n",
        "    unique_rows = {}\n",
        "\n",
        "    for row in rows:\n",
        "      name = row['name']\n",
        "      if name not in unique_rows:\n",
        "          unique_rows[name] = row\n",
        "\n",
        "    print(\"Data from csv file\")\n",
        "    print_rows(unique_rows.values())\n",
        "\n",
        "    return unique_rows\n",
        "\n"
      ],
      "metadata": {
        "id": "38Y-lzgoG5Yq"
      },
      "execution_count": null,
      "outputs": []
    },
    {
      "cell_type": "markdown",
      "source": [
        "``Checking every row and saving the info into dict, because the keys is unique so if there are rows with the same \"Name\", they are skipped.``"
      ],
      "metadata": {
        "id": "Th3nDMiEHQ4i"
      }
    },
    {
      "cell_type": "code",
      "source": [
        "filename = '/content/sample_data/pokemon_stats.csv'\n",
        "filename_to_save = '/content/sample_data/pokemon_stats_fixed.csv'\n",
        "changes = {}\n",
        "rows = read_file(filename)\n",
        "#Setting some vars"
      ],
      "metadata": {
        "id": "QEg3TT03HPhK"
      },
      "execution_count": null,
      "outputs": []
    },
    {
      "cell_type": "code",
      "source": [
        "changes = remove_duplicates(filename)"
      ],
      "metadata": {
        "colab": {
          "base_uri": "https://localhost:8080/"
        },
        "id": "33OouNUTHU7M",
        "outputId": "837c2728-2f42-4cf9-8020-84772f5b9547"
      },
      "execution_count": null,
      "outputs": [
        {
          "output_type": "stream",
          "name": "stdout",
          "text": [
            "Data from csv file\n",
            "Name            Height  Weight  Type       Secondary Type  HP  Attack Defense Sp Atk Sp Def Speed\n",
            "bulbasaur       7       69      grass      poison          45  49    49      65     65     45   \n",
            "fushigisou      10      130     grass      poison          60  62    63      80     80     60   \n",
            "ivysaur         10      130     grass      poison          60  62    63      80     80     60   \n",
            "venusaur        20      1000    grass      poison          80  82    83      100    100    80   \n",
            "charmander      6       85      fire       None            39  52    43      60     50     65   \n",
            "charmeleon      11      190     fire       None            58  64    58      80     65     80   \n",
            "charizard       17      905     fire       flying          78  84    78      109    85     100  \n",
            "squirtle        5       90      water      None            44  48    65      50     64     43   \n",
            "wartortle       10      225     water      None            59  63    80      65     80     58   \n",
            "blastoise       16      855     water      None            79  83    100     85     105    78   \n",
            "caterpie        3       29      bug        None            45  30    35      20     20     45   \n",
            "metapod         7       99      bug        None            50  20    55      25     25     30   \n",
            "butterfree      11      320     bug        flying          60  45    50      90     80     70   \n",
            "weedle          3       32      bug        poison          40  35    30      20     20     50   \n",
            "kakuna          6       100     bug        poison          45  25    50      25     25     35   \n",
            "beedrill        10      295     bug        poison          65  90    40      45     80     75   \n",
            "pidgey          3       18      normal     flying          40  45    40      35     35     56   \n",
            "pidgeotto       11      300     normal     flying          63  60    55      50     50     71   \n",
            "pidgeot         15      395     normal     flying          83  80    75      70     70     101  \n",
            "rattata         3       35      normal     None            30  56    35      25     35     72   \n",
            "raticate        7       185     normal     None            55  81    60      50     70     97   \n",
            "spearow         3       20      normal     flying          40  60    30      31     31     70   \n",
            "fearow          12      380     normal     flying          65  90    65      61     61     100  \n",
            "ekans           20      69      poison     None            35  60    44      40     54     55   \n",
            "arbok           35      650     poison     None            60  95    69      65     79     80   \n",
            "pikachu         4       60      electric   None            35  55    40      50     50     90   \n",
            "herbizarre      15      125     grass      PoIsOn          120 60    61      76     76     58   \n",
            "raichu          8       300     electric   None            60  90    55      90     80     110  \n",
            "sandshrew       6       120     ground     None            50  75    85      20     30     40   \n",
            "sandslash       10      295     ground     None            75  100   110     45     55     65   \n",
            "nidoran-f       4       70      poison     None            55  47    52      40     40     41   \n",
            "nidorina        8       200     poison     None            70  62    67      55     55     56   \n",
            "nidoqueen       13      600     poison     ground          90  92    87      75     85     76   \n",
            "nidoran-m       5       90      poison     None            46  57    40      40     40     50   \n",
            "nidorino        9       195     poison     None            61  72    57      55     55     65   \n",
            "nidoking        14      620     poison     ground          81  102   77      85     75     85   \n",
            "clefairy        6       75      fairy      None            70  45    48      60     65     35   \n",
            "clefable        13      400     fairy      None            95  70    73      95     90     60   \n",
            "vulpix          6       99      fire       None            38  41    40      50     65     65   \n",
            "ninetales       11      199     fire       None            73  76    75      81     100    100  \n",
            "jigglypuff      5       55      normal     fairy           115 45    20      45     25     20   \n",
            "wigglytuff      10      120     normal     fairy           140 70    45      85     50     45   \n",
            "zubat           8       75      poison     flying          40  45    35      30     40     55   \n",
            "golbat          16      550     poison     flying          75  80    70      65     75     90   \n",
            "oddish          5       54      grass      poison          45  50    55      75     65     30   \n",
            "gloom           8       86      grass      poison          60  65    70      85     75     40   \n",
            "vileplume       12      186     grass      poison          75  80    85      110    90     50   \n",
            "paras           3       54      bug        grass           35  70    55      45     55     25   \n",
            "parasect        10      295     bug        grass           60  95    80      60     80     30   \n",
            "venonat         10      300     bug        poison          60  55    50      40     55     45   \n",
            "snake           3000    30000   bug        snake           1   1     1       1      1      1    \n",
            "venomoth        15      125     bug        poison          70  65    60      90     75     90   \n",
            "diglett         2       8       ground     None            10  55    25      35     45     95   \n",
            "dugtrio         7       333     ground     None            35  100   50      50     70     120  \n",
            "meowth          4       42      normal     None            40  45    35      40     40     90   \n",
            "persian         10      320     normal     None            65  70    60      65     65     115  \n",
            "psyduck         8       196     water      None            50  52    48      65     50     55   \n",
            "golduck         17      766     water      None            80  82    78      95     80     85   \n",
            "mankey          5       280     fighting   None            40  80    35      35     45     70   \n",
            "primeape        10      320     fighting   None            65  105   60      60     70     95   \n",
            "growlithe       7       190     fire       None            55  70    45      70     50     60   \n",
            "arcanine        19      1550    fire       None            90  110   80      100    80     95   \n",
            "poliwag         6       124     water      None            40  50    40      40     40     90   \n",
            "poliwhirl       10      200     water      None            65  65    65      50     50     90   \n",
            "poliwrath       13      540     water      fighting        90  95    95      70     90     70   \n",
            "abra            9       195     psychic    None            25  20    15      105    55     90   \n",
            "kadabra         13      565     psychic    None            40  35    30      120    70     105  \n",
            "alakazam        15      480     psychic    None            55  50    45      135    95     120  \n",
            "machop          8       195     fighting   None            70  80    50      35     35     35   \n",
            "machoke         15      705     fighting   None            80  100   70      50     60     45   \n",
            "machamp         16      1300    fighting   None            90  130   80      65     85     55   \n",
            "bellsprout      7       40      grass      poison          50  75    35      70     30     40   \n",
            "weepinbell      10      64      grass      poison          65  90    50      85     45     55   \n",
            "jesusmon        10      64      GOOFF      MON             5   4     1       2      3      6    \n",
            "victreebel      17      155     grass      poison          80  105   65      100    70     70   \n",
            "tentacool       9       455     water      poison          40  40    35      50     100    70   \n",
            "tentacruel      16      550     water      poison          80  70    65      80     120    100  \n",
            "geodude         4       200     rock       ground          40  80    100     30     30     20   \n",
            "graveler        10      1050    rock       ground          55  95    115     45     45     35   \n",
            "golem           14      3000    rock       ground          80  120   130     55     65     45   \n",
            "ponyta          10      300     fire       None            50  85    55      65     65     90   \n",
            "rapidash        17      950     fire       None            65  100   70      80     80     105  \n",
            "doduo                                                                                           \n",
            "slowpoke        12      360     water      psychic         90  65    65      40     40     15   \n",
            "slowbro         16      785     water      psychic         95  75    110     100    80     30   \n",
            "magnemite       3       60      electric   steel           25  35    70      95     55     45   \n",
            "magneton        10      600     electric   steel           50  60    95      120    70     70   \n",
            "farfetchd       8       150     normal     flying          52  90    55      58     62     60   \n",
            "dodrio          18      852     normal     flying          60  110   70      60     60     110  \n",
            "seel            11      900     water      None            65  45    55      45     70     45   \n",
            "dewgong         17      1200    water      ice             90  70    80      70     95     70   \n",
            "grimer          9       300     poison     None            80  80    50      40     50     25   \n",
            "muk             12      300     poison     None            105 105   75      65     100    50   \n",
            "shellder        3       40      water      None            30  65    100     45     25     40   \n",
            "cloyster        15      1325    water      ice             50  95    180     85     45     70   \n",
            "gastly          13      1       ghost      poison          30  35    30      100    35     80   \n",
            "haunter         16      1       ghost      poison          45  50    45      115    55     95   \n",
            "gengar          15      405     ghost      poison          60  65    60      130    75     110  \n",
            "onix            88      2100    rock       ground          35  45    160     30     45     70   \n",
            "drowzee         10      324     psychic    None            60  48    45      43     90     42   \n",
            "hypno           16      756     psychic    None            85  73    70      73     115    67   \n",
            "krabby          4       65      water      None            30  105   90      25     25     50   \n",
            "kingler         13      600     water      None            55  130   115     50     50     75   \n",
            "voltorb         5       104     electric   None            40  30    50      55     55     100  \n",
            "electrode       12      666     electric   None            60  50    70      80     80     150  \n",
            "exeggcute       4       25      grass      psychic         60  40    80      60     45     40   \n",
            "exeggutor       20      1200    grass      psychic         95  95    85      125    75     55   \n",
            "cubone          4       65      ground     None            50  50    95      40     50     35   \n",
            "marowak         10      450     ground     None            60  80    110     50     80     45   \n",
            "hitmonlee       15      498     fighting   None            50  120   53      35     110    87   \n",
            "hitmonchan      14      502     fighting   None            50  105   79      35     110    76   \n",
            "lickitung       12      655     normal     None            90  55    75      60     75     30   \n",
            "koffing         6       10      poison     None            40  65    95      60     45     35   \n",
            "weezing         12      95      poison     None            65  90    120     85     70     60   \n",
            "rhyhorn         10      1150    ground     rock            80  85    95      30     30     25   \n",
            "rhydon          19      1200    ground     rock            105 130   120     45     45     40   \n",
            "chansey         11      346     normal     None            250 5     5       35     105    50   \n",
            "tangela         10      350     grass      None            65  55    115     100    40     60   \n",
            "kangaskhan      22      800     normal     None            105 95    80      40     80     90   \n",
            "horsea          4       80      water      None            30  40    70      70     25     60   \n",
            "seadra          12      250     water      None            55  65    95      95     45     85   \n",
            "goldeen         6       150     water      None            45  67    60      35     50     63   \n",
            "seaking         13      390     water      None            80  92    65      65     80     68   \n",
            "staryu          8       345     water      None            30  45    55      70     55     85   \n",
            "starmie         11      800     water      psychic         60  75    85      100    85     115  \n",
            "mr-mime         13      545     psychic    fairy           40  45    65      100    120    90   \n",
            "scyther         15      560     bug        flying          70  110   80      55     80     105  \n",
            "jynx            14      406     ice        psychic         65  50    35      115    95     95   \n",
            "electabuzz      11      300     electric   None            65  83    57      95     85     105  \n",
            "magmar          13      445     fire       None            65  95    57      100    85     93   \n",
            "pinsir          15      550     bug        None            65  125   100     55     70     85   \n",
            "tauros          14      884     normal     None            75  100   95      40     70     110  \n",
            "magikarp        9       100     water      None            20  10    55      15     20     80   \n",
            "gyarados        65      2350    water      flying          95  125   79      60     100    81   \n",
            "lapras          25      2200    water      ice             130 85    80      85     95     60   \n",
            "ditto           3       40      normal     None            48  48    48      48     48     48   \n",
            "eevee           3       65      normal     None            55  55    50      45     65     55   \n",
            "vaporeon        10      290     water      None            130 65    60      110    95     65   \n",
            "jolteon         8       245     electric   None            65  65    60      110    95     130  \n",
            "flareon         9       250     fire       None            65  130   60      95     110    65   \n",
            "porygon         8       365     normal     None            65  60    70      85     75     40   \n",
            "omanyte         4       75      rock       water           35  40    100     90     55     35   \n",
            "omastar         10      350     rock       water           70  60    125     115    70     55   \n",
            "kabuto          5       115     rock       water           30  80    90      55     45     55   \n",
            "kabutops        13      405     rock       water           60  115   105     65     70     80   \n",
            "aerodactyl      18      590     rock       flying          80  105   65      60     75     130  \n",
            "snorlax         21      4600    normal     None            160 110   65      65     110    30   \n",
            "articuno        17      554     ice        flying          90  85    100     95     125    85   \n",
            "zapdos          16      526     electric   flying          90  90    85      125    90     100  \n",
            "moltres         20      600     fire       flying          90  100   90      125    85     90   \n",
            "dratini         18      33      dragon     None            41  64    45      50     50     50   \n",
            "dragonair       40      165     dragon     None            61  84    65      70     70     70   \n",
            "dragonite       22      2100    dragon     flying          91  134   95      100    100    80   \n",
            "mewtwo          20      1220    psychic    None            106 110   90      154    90     130  \n",
            "mew             4       40      psychic    None            100 100   100     100    100    100  \n",
            "chikorita       9       64      grass      None            45  49    65      49     65     45   \n",
            "bayleef         12      158     grass      None            60  62    80      63     80     60   \n",
            "meganium        18      1005    grass      None            80  82    100     83     100    80   \n",
            "cyndaquil       5       79      fire       None            39  52    43      60     50     65   \n",
            "quilava         9       190     fire       None            58  64    58      80     65     80   \n",
            "typhlosion      17      795     fire       None            78  84    78      109    85     100  \n",
            "totodile        6       95      water      None            50  65    64      44     48     43   \n",
            "croconaw        11      250     water      None            65  80    80      59     63     58   \n",
            "feraligatr      23      888     water      None            85  105   100     79     83     78   \n",
            "sentret         8       60      normal     None            35  46    34      35     45     20   \n",
            "furret          18      325     normal     None            85  76    64      45     55     90   \n",
            "hoothoot        7       212     normal     flying          60  30    30      36     56     50   \n",
            "noctowl         16      408     normal     flying          100 50    50      86     96     70   \n",
            "ledyba          10      108     bug        flying          40  20    30      40     80     55   \n",
            "ledian          14      356     bug        flying          55  35    50      55     110    85   \n",
            "spinarak        5       85      bug        poison          40  60    40      40     40     30   \n",
            "ariados         11      335     bug        poison          70  90    70      60     70     40   \n",
            "crobat          18      750     poison     flying          85  90    80      70     80     130  \n",
            "chinchou        5       120     water      electric        75  38    38      56     56     67   \n",
            "lanturn         12      225     water      electric        125 58    58      76     76     67   \n",
            "pichu           3       20      electric   None            20  40    15      35     35     60   \n",
            "cleffa          3       30      fairy      None            50  25    28      45     55     15   \n",
            "igglybuff       3       10      normal     fairy           90  30    15      40     20     15   \n",
            "togepi          3       15      fairy      None            35  20    65      40     65     20   \n",
            "togetic         6       32      fairy      flying          55  40    85      80     105    40   \n",
            "natu            2       20      psychic    flying          40  50    45      70     45     70   \n",
            "xatu            15      150     psychic    flying          65  75    70      95     70     95   \n",
            "mareep          6       78      electric   None            55  40    40      65     45     35   \n",
            "flaaffy         8       133     electric   None            70  55    55      80     60     45   \n",
            "ampharos        14      615     electric   None            90  75    85      115    90     55   \n",
            "bellossom       4       58      grass      None            75  80    95      90     100    50   \n",
            "marill          4       85      water      fairy           70  20    50      20     50     40   \n",
            "azumarill       8       285     water      fairy           100 50    80      60     80     50   \n",
            "sudowoodo       12      380     rock       None            70  100   115     30     65     30   \n",
            "politoed        11      339     water      None            90  75    75      90     100    70   \n",
            "hoppip          4       5       grass      flying          35  35    40      35     55     50   \n",
            "skiploom        6       10      grass      flying          55  45    50      45     65     80   \n",
            "jumpluff        8       30      grass      flying          75  55    70      55     95     110  \n",
            "aipom           8       115     normal     None            55  70    55      40     55     85   \n",
            "sunkern         3       18      grass      None            30  30    30      30     30     30   \n",
            "sunflora        8       85      grass      None            75  75    55      105    85     30   \n",
            "yanma           12      380     bug        flying          65  65    45      75     45     95   \n",
            "wooper          4       85      water      ground          55  45    45      25     25     15   \n",
            "quagsire        14      750     water      ground          95  85    85      65     65     35   \n",
            "espeon          9       265     psychic    None            65  65    60      130    95     110  \n",
            "umbreon         10      270     dark       None            95  65    110     60     130    65   \n",
            "murkrow         5       21      dark       flying          60  85    42      85     42     91   \n",
            "slowking        20      795     water      psychic         95  75    80      100    110    30   \n",
            "misdreavus      7       10      ghost      None            60  60    60      85     85     85   \n",
            "unown           5       50      psychic    None            48  72    48      72     48     48   \n",
            "wobbuffet       13      285     psychic    None            190 33    58      33     58     33   \n",
            "girafarig       15      415     normal     psychic         70  80    65      90     65     85   \n",
            "pineco          6       72      bug        None            50  65    90      35     35     15   \n",
            "forretress      12      1258    bug        steel           75  90    140     60     60     40   \n",
            "dunsparce       15      140     normal     None            100 70    70      65     65     45   \n",
            "gligar          11      648     ground     flying          65  75    105     35     65     85   \n",
            "steelix         92      4000    steel      ground          75  85    200     55     65     30   \n",
            "snubbull        6       78      fairy      None            60  80    50      40     40     30   \n",
            "granbull        14      487     fairy      None            90  120   75      60     60     45   \n",
            "qwilfish        5       39      water      poison          65  95    85      55     55     85   \n",
            "scizor          18      1180    bug        steel           70  130   100     55     80     65   \n",
            "shuckle         6       205     bug        rock            20  10    230     10     230    5    \n",
            "heracross       15      540     bug        fighting        80  125   75      40     95     85   \n",
            "sneasel         9       280     dark       ice             55  95    55      35     75     115  \n",
            "teddiursa       6       88      normal     None            60  80    50      50     50     40   \n",
            "ursaring        18      1258    normal     None            90  130   75      75     75     55   \n",
            "slugma          7       350     fire       None            40  40    40      70     40     20   \n",
            "magcargo        8       550     fire       rock            60  50    120     90     80     30   \n",
            "swinub          4       65      ice        ground          50  50    40      30     30     50   \n",
            "piloswine       11      558     ice        ground          100 100   80      60     60     50   \n",
            "corsola         6       50      water      rock            65  55    95      65     95     35   \n",
            "remoraid        6       120     water      None            35  65    35      65     35     65   \n",
            "octillery       9       285     water      None            75  105   75      105    75     45   \n",
            "delibird        9       160     ice        flying          45  55    45      65     45     75   \n",
            "mantine         21      2200    water      flying          85  40    70      80     140    70   \n",
            "skarmory        17      505     steel      flying          65  80    140     40     70     70   \n",
            "houndour        6       108     dark       fire            45  60    30      80     50     65   \n",
            "houndoom        14      350     dark       fire            75  90    50      110    80     95   \n",
            "kingdra         18      1520    water      dragon          75  95    95      95     95     85   \n",
            "phanpy          5       335     ground     None            90  60    60      40     40     40   \n",
            "donphan         11      1200    ground     None            90  120   120     60     60     50   \n",
            "porygon2        6       325     normal     None            85  80    90      105    95     60   \n",
            "stantler        14      712     normal     None            73  95    62      85     65     85   \n",
            "smeargle        12      580     normal     None            55  20    35      20     45     75   \n",
            "tyrogue         7       210     fighting   None            35  35    35      35     35     35   \n",
            "hitmontop       14      480     fighting   None            50  95    95      35     110    70   \n",
            "smoochum        4       60      ice        psychic         45  30    15      85     65     65   \n",
            "elekid          6       235     electric   None            45  63    37      65     55     95   \n",
            "magby           7       214     fire       None            45  75    37      70     55     83   \n",
            "miltank         12      755     normal     None            95  80    105     40     70     100  \n",
            "blissey         15      468     normal     None            255 10    10      75     135    55   \n",
            "raikou          19      1780    electric   None            90  85    75      115    100    115  \n",
            "entei           21      1980    fire       None            115 115   85      90     75     100  \n",
            "suicune         20      1870    water      None            100 75    115     90     115    85   \n",
            "larvitar        6       720     rock       ground          50  64    50      45     50     41   \n",
            "pupitar         12      1520    rock       ground          70  84    70      65     70     51   \n",
            "tyranitar       20      2020    rock       dark            100 134   110     95     100    61   \n",
            "lugia           52      2160    psychic    flying          106 90    130     90     154    110  \n",
            "ho-oh           38      1990    fire       flying          106 130   90      110    154    90   \n",
            "celebi          6       50      psychic    grass           100 100   100     100    100    100  \n",
            "simight         20      150     psychic    fairy           128 63    63      117    108    76   \n",
            "treecko         5       50      grass      None            40  45    35      65     55     70   \n",
            "grovyle         9       216     grass      None            50  65    45      85     65     95   \n",
            "sceptile        17      522     grass      None            70  85    65      105    85     120  \n",
            "torchic         4       25      fire       None            45  60    40      70     50     45   \n",
            "combusken       9       195     fire       fighting        60  85    60      85     60     55   \n",
            "blaziken        19      520     fire       fighting        80  120   70      110    70     80   \n",
            "mudkip          4       76      water      None            50  70    50      50     50     40   \n",
            "marshtomp       7       280     water      ground          70  85    70      60     70     50   \n",
            "swampert        15      819     water      ground          100 110   90      85     90     60   \n",
            "poochyena       5       136     dark       None            35  55    35      30     30     35   \n",
            "mightyena       10      370     dark       None            70  90    70      60     60     70   \n",
            "zigzagoon       4       175     normal     None            38  30    41      30     41     60   \n",
            "linoone         5       325     normal     None            78  70    61      50     61     100  \n",
            "wurmple         3       36      bug        None            45  45    35      20     30     20   \n",
            "silcoon         6       100     bug        None            50  35    55      25     25     15   \n",
            "beautifly       10      284     bug        flying          60  70    50      100    50     65   \n",
            "cascoon         7       115     bug        None            50  35    55      25     25     15   \n",
            "dustox          12      316     bug        poison          60  50    70      50     90     65   \n",
            "lotad           5       26      water      grass           40  30    30      40     50     30   \n",
            "lombre          12      325     water      grass           60  50    50      60     70     50   \n",
            "ludicolo        15      550     water      grass           80  70    70      90     100    70   \n",
            "seedot          5       40      grass      None            40  40    50      30     30     30   \n",
            "nuzleaf         10      280     grass      dark            70  70    40      60     40     60   \n",
            "shiftry         13      596     grass      dark            90  100   60      90     60     80   \n",
            "taillow         3       23      normal     flying          40  55    30      30     30     85   \n",
            "swellow         7       198     normal     flying          60  85    60      75     50     125  \n",
            "wingull         6       95      water      flying          40  30    30      55     30     85   \n",
            "pelipper        12      280     water      flying          60  50    100     95     70     65   \n",
            "ralts           4       66      psychic    fairy           28  25    25      45     35     40   \n",
            "kirlia          8       202     psychic    fairy           38  35    35      65     55     50   \n",
            "gardevoir       16      484     psychic    fairy           68  65    65      125    115    80   \n",
            "surskit         5       17      bug        water           40  30    32      50     52     65   \n",
            "masquerain      8       36      bug        flying          70  60    62      100    82     80   \n",
            "shroomish       4       45      grass      None            60  40    60      40     60     35   \n",
            "breloom         12      392     grass      fighting        60  130   80      60     60     70   \n",
            "slakoth         8       240     normal     None            60  60    60      35     35     30   \n",
            "vigoroth        14      465     normal     None            80  80    80      55     55     90   \n",
            "slaking         20      1305    normal     None            150 160   100     95     65     100  \n",
            "nincada         5       55      bug        ground          31  45    90      30     30     40   \n",
            "ninjask         8       120     bug        flying          61  90    45      50     50     160  \n",
            "shedinja        8       12      bug        ghost           1   90    45      30     30     40   \n",
            "whismur         6       163     normal     None            64  51    23      51     23     28   \n",
            "loudred         10      405     normal     None            84  71    43      71     43     48   \n",
            "exploud         15      840     normal     None            104 91    63      91     73     68   \n",
            "makuhita        10      864     fighting   None            72  60    30      20     30     25   \n",
            "hariyama        23      2538    fighting   None            144 120   60      40     60     50   \n",
            "azurill         2       20      normal     fairy           50  20    40      20     40     20   \n",
            "nosepass        10      970     rock       None            30  45    135     45     90     30   \n",
            "skitty          6       110     normal     None            50  45    45      35     35     50   \n",
            "delcatty        11      326     normal     None            70  65    65      55     55     90   \n",
            "sableye         5       110     dark       ghost           50  75    75      65     65     50   \n",
            "mawile          6       115     steel      fairy           50  85    85      55     55     50   \n",
            "aron            4       600     steel      rock            50  70    100     40     40     30   \n",
            "lairon          9       1200    steel      rock            60  90    140     50     50     40   \n",
            "aggron          21      3600    steel      rock            70  110   180     60     60     50   \n",
            "meditite        6       112     fighting   psychic         30  40    55      40     55     60   \n",
            "medicham        13      315     fighting   psychic         60  60    75      60     75     80   \n",
            "electrike       6       152     electric   None            40  45    40      65     40     65   \n",
            "manectric       15      402     electric   None            70  75    60      105    60     105  \n",
            "plusle          4       42      electric   None            60  50    40      85     75     95   \n",
            "minun           4       42      electric   None            60  40    50      75     85     95   \n",
            "volbeat         7       177     bug        None            65  73    75      47     85     85   \n",
            "illumise        6       177     bug        None            65  47    75      73     85     85   \n",
            "roselia         3       20      grass      poison          50  60    45      100    80     65   \n",
            "gulpin          4       103     poison     None            70  43    53      43     53     40   \n",
            "swalot          17      800     poison     None            100 73    83      73     83     55   \n",
            "carvanha        8       208     water      dark            45  90    20      65     20     65   \n",
            "sharpedo        18      888     water      dark            70  120   40      95     40     95   \n",
            "wailmer         20      1300    water      None            130 70    35      70     35     60   \n",
            "wailord         145     3980    water      None            170 90    45      90     45     60   \n",
            "numel           7       240     fire       ground          60  60    40      65     45     35   \n",
            "camerupt        19      2200    fire       ground          70  100   70      105    75     40   \n",
            "torkoal         5       804     fire       None            70  85    140     85     70     20   \n",
            "spoink          7       306     psychic    None            60  25    35      70     80     60   \n",
            "grumpig         9       715     psychic    None            80  45    65      90     110    80   \n",
            "spinda          11      50      normal     None            60  60    60      60     60     60   \n",
            "trapinch        7       150     ground     None            45  100   45      45     45     10   \n",
            "vibrava         11      153     ground     dragon          50  70    50      50     50     70   \n",
            "flygon          20      820     ground     dragon          80  100   80      80     80     100  \n",
            "cacnea          4       513     grass      None            50  85    40      85     40     35   \n",
            "cacturne        13      774     grass      dark            70  115   60      115    60     55   \n",
            "swablu          4       12      normal     flying          45  40    60      40     75     50   \n",
            "altaria         11      206     dragon     flying          75  70    90      70     105    80   \n",
            "zangoose        13      403     normal     None            73  115   60      60     60     90   \n",
            "seviper         27      525     poison     None            73  100   60      100    60     65   \n",
            "lunatone        10      1680    rock       psychic         90  55    65      95     85     70   \n",
            "solrock         12      1540    rock       psychic         90  95    85      55     65     70   \n",
            "barboach        4       19      water      ground          50  48    43      46     41     60   \n",
            "whiscash        9       236     water      ground          110 78    73      76     71     60   \n",
            "corphish        6       115     water      None            43  80    65      50     35     35   \n",
            "crawdaunt       11      328     water      dark            63  120   85      90     55     55   \n",
            "baltoy          5       215     ground     psychic         40  40    55      40     70     55   \n",
            "claydol         15      1080    ground     psychic         60  70    105     70     120    75   \n",
            "lileep          10      238     rock       grass           66  41    77      61     87     23   \n",
            "cradily         15      604     rock       grass           86  81    97      81     107    43   \n",
            "anorith         7       125     rock       bug             45  95    50      40     50     75   \n",
            "armaldo         15      682     rock       bug             75  125   100     70     80     45   \n",
            "feebas          6       74      water      None            20  15    20      10     55     80   \n",
            "milotic         62      1620    water      None            95  60    79      100    125    81   \n",
            "castform        3       8       normal     None            70  70    70      70     70     70   \n",
            "kecleon         10      220     normal     None            60  90    70      60     120    40   \n",
            "shuppet         6       23      ghost      None            44  75    35      63     33     45   \n",
            "banette         11      125     ghost      None            64  115   65      83     63     65   \n",
            "duskull         8       150     ghost      None            20  40    90      30     90     25   \n",
            "dusclops        16      306     ghost      None            40  70    130     60     130    25   \n",
            "tropius         20      1000    grass      flying          99  68    83      72     87     51   \n",
            "chimecho        6       10      psychic    None            75  50    80      95     90     65   \n",
            "absol           12      470     dark       None            65  130   60      75     60     75   \n",
            "wynaut          6       140     psychic    None            95  23    48      23     48     23   \n",
            "snorunt         7       168     ice        None            50  50    50      50     50     50   \n",
            "glalie          15      2565    ice        None            80  80    80      80     80     80   \n",
            "spheal          8       395     ice        water           70  40    50      55     50     25   \n",
            "sealeo          11      876     ice        water           90  60    70      75     70     45   \n",
            "walrein         14      1506    ice        water           110 80    90      95     90     65   \n",
            "clamperl        4       525     water      None            35  64    85      74     55     32   \n",
            "huntail         17      270     water      None            55  104   105     94     75     52   \n",
            "gorebyss        18      226     water      None            55  84    105     114    75     52   \n",
            "relicanth       10      234     water      rock            100 90    130     45     65     55   \n",
            "luvdisc         6       87      water      None            43  30    55      40     65     97   \n",
            "bagon           6       421     dragon     None            45  75    60      40     30     50   \n",
            "shelgon         11      1105    dragon     None            65  95    100     60     50     50   \n",
            "salamence       15      1026    dragon     flying          95  135   80      110    80     100  \n",
            "beldum          6       952     steel      psychic         40  55    80      35     60     30   \n",
            "metang          12      2025    steel      psychic         60  75    100     55     80     50   \n",
            "metagross       16      5500    steel      psychic         80  135   130     95     90     70   \n",
            "regirock        17      2300    rock       None            80  100   200     50     100    50   \n",
            "regice          18      1750    ice        None            80  50    100     100    200    50   \n",
            "registeel       19      2050    steel      None            80  75    150     75     150    50   \n",
            "latias          14      400     dragon     psychic         80  80    90      110    130    110  \n",
            "latios          20      600     dragon     psychic         80  90    80      130    110    110  \n",
            "kyogre          45      3520    water      None            100 100   90      150    140    90   \n",
            "groudon         35      9500    ground     None            100 150   140     100    90     90   \n",
            "rayquaza        70      2065    dragon     flying          105 150   90      150    90     95   \n",
            "jirachi         3       11      steel      psychic         100 100   100     100    100    100  \n",
            "deoxys-normal   17      608     psychic    None            50  150   50      150    50     150  \n",
            "turtwig         4       102     grass      None            55  68    64      45     55     31   \n",
            "grotle          11      970     grass      None            75  89    85      55     65     36   \n",
            "torterra        22      3100    grass      ground          95  109   105     75     85     56   \n",
            "chimchar        5       62      fire       None            44  58    44      58     44     61   \n",
            "monferno        9       220     fire       fighting        64  78    52      78     52     81   \n",
            "infernape       12      550     fire       fighting        76  104   71      104    71     108  \n",
            "piplup          4       52      water      None            53  51    53      61     56     40   \n",
            "prinplup        8       230     water      None            64  66    68      81     76     50   \n",
            "empoleon        17      845     water      steel           84  86    88      111    101    60   \n",
            "starly          3       20      normal     flying          40  55    30      30     30     60   \n",
            "staravia        6       155     normal     flying          55  75    50      40     40     80   \n",
            "staraptor       12      249     normal     flying          85  120   70      50     60     100  \n",
            "bidoof          5       200     normal     None            59  45    40      35     40     31   \n",
            "bibarel         10      315     normal     water           79  85    60      55     60     71   \n",
            "kricketot       3       22      bug        None            37  25    41      25     41     25   \n",
            "kricketune      10      255     bug        None            77  85    51      55     51     65   \n",
            "shinx           5       95      electric   None            45  65    34      40     34     45   \n",
            "luxio           9       305     electric   None            60  85    49      60     49     60   \n",
            "luxray          14      420     electric   None            80  120   79      95     79     70   \n",
            "budew           2       12      grass      poison          40  30    35      50     70     55   \n",
            "roserade        9       145     grass      poison          60  70    65      125    105    90   \n",
            "cranidos        9       315     rock       None            67  125   40      30     30     58   \n",
            "rampardos       16      1025    rock       None            97  165   60      65     50     58   \n",
            "shieldon        5       570     rock       steel           30  42    118     42     88     30   \n",
            "bastiodon       13      1495    rock       steel           60  52    168     47     138    30   \n",
            "burmy           2       34      bug        None            40  29    45      29     45     36   \n",
            "wormadam-plant  5       65      bug        grass           60  59    85      79     105    36   \n",
            "mothim          9       233     bug        flying          70  94    50      94     50     66   \n",
            "combee          3       55      bug        flying          30  30    42      30     42     70   \n",
            "vespiquen       12      385     bug        flying          70  80    102     80     102    40   \n",
            "pachirisu       4       39      electric   None            60  45    70      45     90     95   \n",
            "buizel          7       295     water      None            55  65    35      60     30     85   \n",
            "floatzel        11      335     water      None            85  105   55      85     50     115  \n",
            "cherubi         4       33      grass      None            45  35    45      62     53     35   \n",
            "cherrim         5       93      grass      None            70  60    70      87     78     85   \n",
            "shellos         3       63      water      None            76  48    48      57     62     34   \n",
            "gastrodon       9       299     water      ground          111 83    68      92     82     39   \n",
            "ambipom         12      203     normal     None            75  100   66      60     66     115  \n",
            "drifloon        4       12      ghost      flying          90  50    34      60     44     70   \n",
            "drifblim        12      150     ghost      flying          150 80    44      90     54     80   \n",
            "buneary         4       55      normal     None            55  66    44      44     56     85   \n",
            "lopunny         12      333     normal     None            65  76    84      54     96     105  \n",
            "mismagius       9       44      ghost      None            60  60    60      105    105    105  \n",
            "honchkrow       9       273     dark       flying          100 125   52      105    52     71   \n",
            "glameow         5       39      normal     None            49  55    42      42     37     85   \n",
            "purugly         10      438     normal     None            71  82    64      64     59     112  \n",
            "chingling       2       6       psychic    None            45  30    50      65     50     45   \n",
            "stunky          4       192     poison     dark            63  63    47      41     41     74   \n",
            "skuntank        10      380     poison     dark            103 93    67      71     61     84   \n",
            "bronzor         5       605     steel      psychic         57  24    86      24     86     23   \n",
            "bronzong        13      1870    steel      psychic         67  89    116     79     116    33   \n",
            "bonsly          5       150     rock       None            50  80    95      10     45     10   \n",
            "mime-jr         6       130     psychic    fairy           20  25    45      70     90     60   \n",
            "happiny         6       244     normal     None            100 5     5       15     65     30   \n",
            "chatot          5       19      normal     flying          76  65    45      92     42     91   \n",
            "spiritomb       10      1080    ghost      dark            50  92    108     92     108    35   \n",
            "gible           7       205     dragon     ground          58  70    45      40     45     42   \n",
            "gabite          14      560     dragon     ground          68  90    65      50     55     82   \n",
            "garchomp        19      950     dragon     ground          108 130   95      80     85     102  \n",
            "munchlax        6       1050    normal     None            135 85    40      40     85     5    \n",
            "riolu           7       202     fighting   None            40  70    40      35     40     60   \n",
            "lucario         12      540     fighting   steel           70  110   70      115    70     90   \n",
            "hippopotas      8       495     ground     None            68  72    78      38     42     32   \n",
            "hippowdon       20      3000    ground     None            108 112   118     68     72     47   \n",
            "skorupi         8       120     poison     bug             40  50    90      30     55     65   \n",
            "drapion         13      615     poison     dark            70  90    110     60     75     95   \n",
            "croagunk        7       230     poison     fighting        48  61    40      61     40     50   \n",
            "toxicroak       13      444     poison     fighting        83  106   65      86     65     85   \n",
            "carnivine       14      270     grass      None            74  100   72      90     72     46   \n",
            "finneon         4       70      water      None            49  49    56      49     61     66   \n",
            "lumineon        12      240     water      None            69  69    76      69     86     91   \n",
            "mantyke         10      650     water      flying          45  20    50      60     120    50   \n",
            "snover          10      505     grass      ice             60  62    50      62     60     40   \n",
            "abomasnow       22      1355    grass      ice             90  92    75      92     85     60   \n",
            "weavile         11      340     dark       ice             70  120   65      45     85     125  \n",
            "magnezone       12      1800    electric   steel           70  70    115     130    90     60   \n",
            "lickilicky      17      1400    normal     None            110 85    95      80     95     50   \n",
            "rhyperior       24      2828    ground     rock            115 140   130     55     55     40   \n",
            "tangrowth       20      1286    grass      None            100 100   125     110    50     50   \n",
            "electivire      18      1386    electric   None            75  123   67      95     85     95   \n",
            "magmortar       16      680     fire       None            75  95    67      125    95     83   \n",
            "togekiss        15      380     fairy      flying          85  50    95      120    115    80   \n",
            "yanmega         19      515     bug        flying          86  76    86      116    56     95   \n",
            "leafeon         10      255     grass      None            65  110   130     60     65     95   \n",
            "glaceon         8       259     ice        None            65  60    110     130    95     65   \n",
            "gliscor         20      425     ground     flying          75  95    125     45     75     95   \n",
            "mamoswine       25      2910    ice        ground          110 130   80      70     60     80   \n",
            "porygon-z       9       340     normal     None            85  80    70      135    75     90   \n",
            "gallade         16      520     psychic    fighting        68  125   65      65     115    80   \n",
            "probopass       14      3400    rock       steel           60  55    145     75     150    40   \n",
            "dusknoir        22      1066    ghost      None            45  100   135     65     135    45   \n",
            "froslass        13      266     ice        ghost           70  80    70      80     70     110  \n",
            "rotom           3       3       electric   ghost           50  50    77      95     77     91   \n",
            "uxie            3       3       psychic    None            75  75    130     75     130    95   \n",
            "mesprit         3       3       psychic    None            80  105   105     105    105    80   \n",
            "azelf           3       3       psychic    None            75  125   70      125    70     115  \n",
            "dialga          54      6830    steel      dragon          100 120   120     150    100    90   \n",
            "palkia          42      3360    water      dragon          90  120   100     150    120    100  \n",
            "heatran         17      4300    fire       steel           91  90    106     130    106    77   \n",
            "regigigas       37      4200    normal     None            110 160   110     80     110    100  \n",
            "giratina-altered 45      7500    ghost      dragon          150 100   120     100    120    90   \n",
            "cresselia       15      856     psychic    None            120 70    120     75     130    85   \n",
            "phione          4       31      water      None            80  80    80      80     80     80   \n",
            "manaphy         3       14      water      None            100 100   100     100    100    100  \n",
            "darkrai         15      505     dark       None            70  90    90      135    90     125  \n",
            "shaymin-land    2       21      grass      None            100 100   100     100    100    100  \n",
            "arceus          32      3200    normal     None            120 120   120     120    120    120  \n",
            "victini         4       40      psychic    fire            100 100   100     100    100    100  \n",
            "snivy           6       81      grass      None            45  45    55      45     55     63   \n",
            "servine         8       160     grass      None            60  60    75      60     75     83   \n",
            "serperior       33      630     grass      None            75  75    95      75     95     113  \n",
            "tepig           5       99      fire       None            65  63    45      45     45     45   \n",
            "pignite         10      555     fire       fighting        90  93    55      70     55     55   \n",
            "emboar          16      1500    fire       fighting        110 123   65      100    65     65   \n",
            "oshawott        5       59      water      None            55  55    45      63     45     45   \n",
            "dewott          8       245     water      None            75  75    60      83     60     60   \n",
            "samurott        15      946     water      None            95  100   85      108    70     70   \n",
            "                                           None                                                 \n",
            "patrat          5       116     normal     None            45  55    39      35     39     42   \n",
            "watchog         11      270     normal     None            60  85    69      60     69     77   \n",
            "lillipup        4       41      normal     None            45  60    45      25     45     55   \n",
            "herdier         9       147     normal     None            65  80    65      35     65     60   \n",
            "stoutland       12      610     normal     None            85  110   90      45     90     80   \n",
            "purrloin        4       101     dark       None            41  50    37      50     37     66   \n",
            "liepard         11      375     dark       None            64  88    50      88     50     106  \n",
            "pansage         6       105     grass      None            50  53    48      53     48     64   \n",
            "simisage        11      305     grass      None            75  98    63      98     63     101  \n",
            "pansear         6       110     fire       None            50  53    48      53     48     64   \n",
            "simisear        10      280     fire       None            75  98    63      98     63     101  \n",
            "panpour         6       135     water      None            50  53    48      53     48     64   \n",
            "simipour        10      290     water      None            75  98    63      98     63     101  \n",
            "munna           6       233     psychic    None            76  25    45      67     55     24   \n",
            "musharna        11      605     psychic    None            116 55    85      107    95     29   \n",
            "pidove          3       21      normal     flying          50  55    50      36     30     43   \n",
            "tranquill       6       150     normal     flying          62  77    62      50     42     65   \n",
            "unfezant        12      290     normal     flying          80  115   80      65     55     93   \n",
            "blitzle         8       298     electric   None            45  60    32      50     32     76   \n",
            "zebstrika       16      795     electric   None            75  100   63      80     63     116  \n",
            "roggenrola      4       180     rock       None            55  75    85      25     25     15   \n",
            "boldore         9       1020    rock       None            70  105   105     50     40     20   \n",
            "gigalith        17      2600    rock       None            85  135   130     60     80     25   \n",
            "woobat          4       21      psychic    flying          65  45    43      55     43     72   \n",
            "swoobat         9       105     psychic    flying          67  57    55      77     55     114  \n",
            "drilbur         3       85      ground     None            60  85    40      30     45     68   \n",
            "excadrill       7       404     ground     steel           110 135   60      50     65     88   \n",
            "audino          11      310     normal     None            103 60    86      60     86     50   \n",
            "timburr         6       125     fighting   None            75  80    55      25     35     35   \n",
            "gurdurr         12      400     fighting   None            85  105   85      40     50     40   \n",
            "conkeldurr      14      870     fighting   None            105 140   95      55     65     45   \n",
            "tympole         5       45      water      None            50  50    40      50     40     64   \n",
            "palpitoad       8       170     water      ground          75  65    55      65     55     69   \n",
            "seismitoad      15      620     water      ground          105 95    75      85     75     74   \n",
            "throh           13      555     fighting   None            120 100   85      30     85     45   \n",
            "sawk            14      510     fighting   None            75  125   75      30     75     85   \n",
            "sewaddle        3       25      bug        grass           45  53    70      40     60     42   \n",
            "swadloon        5       73      bug        grass           55  63    90      50     80     42   \n",
            "leavanny        12      205     bug        grass           75  103   80      70     80     92   \n",
            "venipede        4       53      bug        poison          30  45    59      30     39     57   \n",
            "whirlipede      12      585     bug        poison          40  55    99      40     79     47   \n",
            "scolipede       25      2005    bug        poison          60  100   89      55     69     112  \n",
            "cottonee        3       6       grass      fairy           40  27    60      37     50     66   \n",
            "whimsicott      7       66      grass      fairy           60  67    85      77     75     116  \n",
            "petilil         5       66      grass      None            45  35    50      70     50     30   \n",
            "lilligant       11      163     grass      None            70  60    75      110    75     90   \n",
            "basculin-red-striped 10      180     water      None            70  92    65      80     55     98   \n",
            "sandile         7       152     ground     dark            50  72    35      35     35     65   \n",
            "krokorok        10      334     ground     dark            60  82    45      45     45     74   \n",
            "krookodile      15      963     ground     dark            95  117   80      65     70     92   \n",
            "darumaka        6       375     fire       None            70  90    45      15     45     50   \n",
            "darmanitan-standard 13      929     fire       None            105 140   55      30     55     95   \n",
            "maractus        10      280     grass      None            75  86    67      106    67     60   \n",
            "dwebble         3       145     bug        rock            50  65    85      35     35     55   \n",
            "crustle         14      2000    bug        rock            70  105   125     65     75     45   \n",
            "scraggy         6       118     dark       fighting        50  75    70      35     70     48   \n",
            "scrafty         11      300     dark       fighting        65  90    115     45     115    58   \n",
            "sigilyph        14      140     psychic    flying          72  58    80      103    80     97   \n",
            "yamask          5       15      ghost      None            38  30    85      55     65     30   \n",
            "cofagrigus      17      765     ghost      None            58  50    145     95     105    30   \n",
            "tirtouga        7       165     water      rock            54  78    103     53     45     22   \n",
            "carracosta      12      810     water      rock            74  108   133     83     65     32   \n",
            "archen          5       95      rock       flying          55  112   45      74     45     70   \n",
            "archeops        14      320     rock       flying          75  140   65      112    65     110  \n",
            "trubbish        6       310     poison     None            50  50    62      40     62     65   \n",
            "garbodor        19      1073    poison     None            80  95    82      60     82     75   \n",
            "zorua           7       125     dark       None            40  65    40      80     40     65   \n",
            "zoroark         16      811     dark       None            60  105   60      120    60     105  \n",
            "minccino        4       58      normal     None            55  50    40      40     40     75   \n",
            "cinccino        5       75      normal     None            75  95    60      65     60     115  \n",
            "gothita         4       58      psychic    None            45  30    50      55     65     45   \n",
            "gothorita       7       180     psychic    None            60  45    70      75     85     55   \n",
            "gothitelle      15      440     psychic    None            70  55    95      95     110    65   \n",
            "solosis         3       10      psychic    None            45  30    40      105    50     20   \n",
            "duosion         6       80      psychic    None            65  40    50      125    60     30   \n",
            "reuniclus       10      201     psychic    None            110 65    75      125    85     30   \n",
            "ducklett        5       55      water      flying          62  44    50      44     50     55   \n",
            "swanna          13      242     water      flying          75  87    63      87     63     98   \n",
            "vanillite       4       57      ice        None            36  50    50      65     60     44   \n",
            "vanillish       11      410     ice        None            51  65    65      80     75     59   \n",
            "vanilluxe       13      575     ice        None            71  95    85      110    95     79   \n",
            "deerling        6       195     normal     grass           60  60    50      40     50     75   \n",
            "sawsbuck        19      925     normal     grass           80  100   70      60     70     95   \n",
            "emolga          4       50      electric   flying          55  75    60      75     60     103  \n",
            "karrablast      5       59      bug        None            50  75    45      40     45     60   \n",
            "escavalier      10      330     bug        steel           70  135   105     60     105    20   \n",
            "foongus         2       10      grass      poison          69  55    45      55     55     15   \n",
            "amoonguss       6       105     grass      poison          114 85    70      85     80     30   \n",
            "frillish        12      330     water      ghost           55  40    50      65     85     40   \n",
            "jellicent       22      1350    water      ghost           100 60    70      85     105    60   \n",
            "alomomola       12      316     water      None            165 75    80      40     45     65   \n",
            "joltik          1       6       bug        electric        50  47    50      57     50     65   \n",
            "galvantula      8       143     bug        electric        70  77    60      97     60     108  \n",
            "ferroseed       6       188     grass      steel           44  50    91      24     86     10   \n",
            "ferrothorn      10      1100    grass      steel           74  94    131     54     116    20   \n",
            "klink           3       210     steel      None            40  55    70      45     60     30   \n",
            "klang           6       510     steel      None            60  80    95      70     85     50   \n",
            "klinklang       6       810     steel      None            60  100   115     70     85     90   \n",
            "tynamo          2       3       electric   None            35  55    40      45     40     60   \n",
            "eelektrik       12      220     electric   None            65  85    70      75     70     40   \n",
            "eelektross      21      805     electric   None            85  115   80      105    80     50   \n",
            "elgyem          5       90      psychic    None            55  55    55      85     55     30   \n",
            "beheeyem        10      345     psychic    None            75  75    75      125    95     40   \n",
            "litwick         3       31      ghost      fire            50  30    55      65     55     20   \n",
            "lampent         6       130     ghost      fire            60  40    60      95     60     55   \n",
            "chandelure      10      343     ghost      fire            60  55    90      145    90     80   \n",
            "axew            6       180     dragon     None            46  87    60      30     40     57   \n",
            "fraxure         10      360     dragon     None            66  117   70      40     50     67   \n",
            "haxorus         18      1055    dragon     None            76  147   90      60     70     97   \n",
            "cubchoo         5       85      ice        None            55  70    40      60     40     40   \n",
            "beartic         26      2600    ice        None            95  130   80      70     80     50   \n",
            "cryogonal       11      1480    ice        None            80  50    50      95     135    105  \n",
            "shelmet         4       77      bug        None            50  40    85      40     65     25   \n",
            "accelgor        8       253     bug        None            80  70    40      100    60     145  \n",
            "stunfisk        7       110     ground     electric        109 66    84      81     99     32   \n",
            "mienfoo         9       200     fighting   None            45  85    50      55     50     65   \n",
            "mienshao        14      355     fighting   None            65  125   60      95     60     105  \n",
            "druddigon       16      1390    dragon     None            77  120   90      60     90     48   \n",
            "golett          10      920     ground     ghost           59  74    50      35     50     35   \n",
            "golurk          28      3300    ground     ghost           89  124   80      55     80     55   \n",
            "pawniard        5       102     dark       steel           45  85    70      40     40     60   \n",
            "bisharp         16      700     dark       steel           65  125   100     60     70     70   \n",
            "bouffalant      16      946     normal     None            95  110   95      40     95     55   \n",
            "rufflet         5       105     normal     flying          70  83    50      37     50     60   \n",
            "braviary        15      410     normal     flying          100 123   75      57     75     80   \n",
            "vullaby         5       90      dark       flying          70  55    75      45     65     60   \n",
            "mandibuzz       12      395     dark       flying          110 65    105     55     95     80   \n",
            "heatmor         14      580     fire       None            85  97    66      105    66     65   \n",
            "durant          3       330     bug        steel           58  109   112     48     48     109  \n",
            "deino           8       173     dark       dragon          52  65    50      45     50     38   \n",
            "zweilous        14      500     dark       dragon          72  85    70      65     70     58   \n",
            "hydreigon       18      1600    dark       dragon          92  105   90      125    90     98   \n",
            "larvesta        11      288     bug        fire            55  85    55      50     55     60   \n",
            "volcarona       16      460     bug        fire            85  60    65      135    105    100  \n",
            "cobalion        21      2500    steel      fighting        91  90    129     90     72     108  \n",
            "terrakion       19      2600    rock       fighting        91  129   90      72     90     108  \n",
            "virizion        20      2000    grass      fighting        91  90    72      90     129    108  \n",
            "tornadus-incarnate 15      630     flying     None            79  115   70      125    80     111  \n",
            "thundurus-incarnate 15      610     electric   flying          79  115   70      125    80     111  \n",
            "reshiram        32      3300    dragon     fire            100 120   100     150    120    90   \n",
            "zekrom          29      3450    dragon     electric        100 150   120     120    100    90   \n",
            "landorus-incarnate 15      680     ground     flying          89  125   90      115    80     101  \n",
            "kyurem          30      3250    dragon     ice             125 130   90      130    90     95   \n",
            "keldeo-ordinary 14      485     water      fighting        91  72    90      129    90     108  \n",
            "meloetta-aria   6       65      normal     psychic         100 77    77      128    128    90   \n",
            "genesect        15      825     bug        steel           71  120   95      120    95     99   \n",
            "chespin         4       90      grass      None            56  61    65      48     45     38   \n",
            "quilladin       7       290     grass      None            61  78    95      56     58     57   \n",
            "chesnaught      16      900     grass      fighting        88  107   122     74     75     64   \n",
            "fennekin        4       94      fire       None            40  45    40      62     60     60   \n",
            "braixen         10      145     fire       None            59  59    58      90     70     73   \n",
            "delphox         15      390     fire       psychic         75  69    72      114    100    104  \n",
            "froakie         3       70      water      None            41  56    40      62     44     71   \n",
            "frogadier       6       109     water      None            54  63    52      83     56     97   \n",
            "greninja        15      400     water      dark            72  95    67      103    71     122  \n",
            "bunnelby        4       50      normal     None            38  36    38      32     36     57   \n",
            "diggersby       10      424     normal     ground          85  56    77      50     77     78   \n",
            "fletchling      3       17      normal     flying          45  50    43      40     38     62   \n",
            "fletchinder     7       160     fire       flying          62  73    55      56     52     84   \n",
            "talonflame      12      245     fire       flying          78  81    71      74     69     126  \n",
            "scatterbug      3       25      bug        None            38  35    40      27     25     35   \n",
            "spewpa          3       84      bug        None            45  22    60      27     30     29   \n",
            "vivillon        12      170     bug        flying          80  52    50      90     50     89   \n",
            "litleo          6       135     fire       normal          62  50    58      73     54     72   \n",
            "pyroar          15      815     fire       normal          86  68    72      109    66     106  \n",
            "flabebe         1       1       fairy      None            44  38    39      61     79     42   \n",
            "floette         2       9       fairy      None            54  45    47      75     98     52   \n",
            "florges         11      100     fairy      None            78  65    68      112    154    75   \n",
            "skiddo          9       310     grass      None            66  65    48      62     57     52   \n",
            "gogoat          17      910     grass      None            123 100   62      97     81     68   \n",
            "pancham         6       80      fighting   None            67  82    62      46     48     43   \n",
            "pangoro         21      1360    fighting   dark            95  124   78      69     71     58   \n",
            "furfrou         12      280     normal     None            75  80    60      65     90     102  \n",
            "espurr          3       35      psychic    None            62  48    54      63     60     68   \n",
            "meowstic-male   6       85      psychic    None            74  48    76      83     81     104  \n",
            "honedge         8       20      steel      ghost           45  80    100     35     37     28   \n",
            "doublade        8       45      steel      ghost           59  110   150     45     49     35   \n",
            "aegislash-shield 17      530     steel      ghost           60  50    140     50     140    60   \n",
            "spritzee        2       5       fairy      None            78  52    60      63     65     23   \n",
            "aromatisse      8       155     fairy      None            101 72    72      99     89     29   \n",
            "swirlix         4       35      fairy      None            62  48    66      59     57     49   \n",
            "slurpuff        8       50      fairy      None            82  80    86      85     75     72   \n",
            "inkay           4       35      dark       psychic         53  54    53      37     46     45   \n",
            "malamar         15      470     dark       psychic         86  92    88      68     75     73   \n",
            "binacle         5       310     rock       water           42  52    67      39     56     50   \n",
            "barbaracle      13      960     rock       water           72  105   115     54     86     68   \n",
            "skrelp          5       73      poison     water           50  60    60      60     60     30   \n",
            "dragalge        18      815     poison     dragon          65  75    90      97     123    44   \n",
            "clauncher       5       83      water      None            50  53    62      58     63     44   \n",
            "clawitzer       13      353     water      None            71  73    88      120    89     59   \n",
            "helioptile      5       60      electric   normal          44  38    33      61     43     70   \n",
            "heliolisk       10      210     electric   normal          62  55    52      109    94     109  \n",
            "tyrunt          8       260     rock       dragon          58  89    77      45     45     48   \n",
            "tyrantrum       25      2700    rock       dragon          82  121   119     69     59     71   \n",
            "amaura          13      252     rock       ice             77  59    50      67     63     46   \n",
            "aurorus         27      2250    rock       ice             123 77    72      99     92     58   \n",
            "sylveon         10      235     fairy      None            95  65    65      110    130    60   \n",
            "hawlucha        8       215     fighting   flying          78  92    75      74     63     118  \n",
            "dedenne         2       22      electric   fairy           67  58    57      81     67     101  \n",
            "carbink         3       57      rock       fairy           50  50    150     50     150    50   \n",
            "goomy           3       28      dragon     None            45  50    35      55     75     40   \n",
            "sliggoo         8       175     dragon     None            68  75    53      83     113    60   \n",
            "goodra          20      1505    dragon     None            90  100   70      110    150    80   \n",
            "klefki          2       30      steel      fairy           57  80    91      80     87     75   \n",
            "phantump        4       70      ghost      grass           43  70    48      50     60     38   \n",
            "trevenant       15      710     ghost      grass           85  110   76      65     82     56   \n",
            "pumpkaboo-average 4       50      ghost      grass           49  66    70      44     55     51   \n",
            "gourgeist-average 9       125     ghost      grass           65  90    122     58     75     84   \n",
            "bergmite        10      995     ice        None            55  69    85      32     35     28   \n",
            "avalugg         20      5050    ice        None            95  117   184     44     46     28   \n",
            "noibat          5       80      flying     dragon          40  30    35      45     40     55   \n",
            "noivern         15      850     flying     dragon          85  70    80      97     80     123  \n",
            "xerneas         30      2150    fairy      None            126 131   95      131    98     99   \n",
            "yveltal         58      2030    dark       flying          126 131   95      131    98     99   \n",
            "zygarde-50      50      3050    dragon     ground          108 100   121     81     95     95   \n",
            "diancie         7       88      rock       fairy           50  100   150     100    150    50   \n",
            "hoopa           5       90      psychic    ghost           80  110   60      150    130    70   \n",
            "volcanion       17      1950    fire       water           80  110   120     130    90     70   \n",
            "rowlet          3       15      grass      flying          68  55    55      50     50     42   \n",
            "dartrix         7       160     grass      flying          78  75    75      70     70     52   \n",
            "decidueye       16      366     grass      ghost           78  107   75      100    100    70   \n",
            "litten          4       43      fire       None            45  65    40      60     40     70   \n",
            "torracat        7       250     fire       None            65  85    50      80     50     90   \n",
            "incineroar      18      830     fire       dark            95  115   90      80     90     60   \n",
            "popplio         4       75      water      None            50  54    54      66     56     40   \n",
            "brionne         6       175     water      None            60  69    69      91     81     50   \n",
            "primarina       18      440     water      fairy           80  74    74      126    116    60   \n",
            "pikipek         3       12      normal     flying          35  75    30      30     30     65   \n",
            "trumbeak        6       148     normal     flying          55  85    50      40     50     75   \n",
            "toucannon       11      260     normal     flying          80  120   75      75     75     60   \n",
            "yungoos         4       60      normal     None            48  70    30      30     30     45   \n",
            "gumshoos        7       142     normal     None            88  110   60      55     60     45   \n",
            "grubbin         4       44      bug        None            47  62    45      55     45     46   \n",
            "charjabug       5       105     bug        electric        57  82    95      55     75     36   \n",
            "vikavolt        15      450     bug        electric        77  70    90      145    75     43   \n",
            "crabrawler      6       70      fighting   None            47  82    57      42     47     63   \n",
            "crabominable    17      1800    fighting   ice             97  132   77      62     67     43   \n",
            "oricorio-baile  6       34      fire       flying          75  70    70      98     70     93   \n",
            "cutiefly        1       2       bug        fairy           40  45    40      55     40     84   \n",
            "ribombee        2       5       bug        fairy           60  55    60      95     70     124  \n",
            "rockruff        5       92      rock       None            45  65    40      30     40     60   \n",
            "lycanroc-midday 8       250     rock       None            75  115   65      55     65     112  \n",
            "wishiwashi-solo 2       3       water      None            45  20    20      25     25     40   \n",
            "mareanie        4       80      poison     water           50  53    62      43     52     45   \n",
            "toxapex         7       145     poison     water           50  63    152     53     142    35   \n",
            "mudbray         10      1100    ground     None            70  100   70      45     55     45   \n",
            "mudsdale        25      9200    ground     None            100 125   100     55     85     35   \n",
            "dewpider        3       40      water      bug             38  40    52      40     72     27   \n",
            "araquanid       18      820     water      bug             68  70    92      50     132    42   \n",
            "fomantis        3       15      grass      None            40  55    35      50     35     35   \n",
            "lurantis        9       185     grass      None            70  105   90      80     90     45   \n",
            "morelull        2       15      grass      fairy           40  35    55      65     75     15   \n",
            "shiinotic       10      115     grass      fairy           60  45    80      90     100    30   \n",
            "salandit        6       48      poison     fire            48  44    40      71     40     77   \n",
            "salazzle        12      222     poison     fire            68  64    60      111    60     117  \n",
            "stufful         5       68      normal     fighting        70  75    50      45     50     50   \n",
            "bewear          21      1350    normal     fighting        120 125   80      55     60     60   \n",
            "bounsweet       3       32      grass      None            42  30    38      30     38     32   \n",
            "steenee         7       82      grass      None            52  40    48      40     48     62   \n",
            "tsareena        12      214     grass      None            72  120   98      50     98     72   \n",
            "comfey          1       3       fairy      None            51  52    90      82     110    100  \n",
            "oranguru        15      760     normal     psychic         90  60    80      90     110    60   \n",
            "passimian       20      828     fighting   None            100 120   90      40     60     80   \n",
            "wimpod          5       120     bug        water           25  35    40      20     30     80   \n",
            "golisopod       20      1080    bug        water           75  125   140     60     90     40   \n",
            "sandygast       5       700     ghost      ground          55  55    80      70     45     15   \n",
            "palossand       13      2500    ghost      ground          85  75    110     100    75     35   \n",
            "pyukumuku       3       12      water      None            55  60    130     30     130    5    \n",
            "type-null       19      1205    normal     None            95  95    95      95     95     59   \n",
            "silvally        23      1005    normal     None            95  95    95      95     95     95   \n",
            "minior-red-meteor 3       400     rock       flying          60  60    100     60     100    60   \n",
            "komala          4       199     normal     None            65  115   65      75     95     65   \n",
            "turtonator      20      2120    fire       dragon          60  78    135     91     85     36   \n",
            "togedemaru      3       33      electric   steel           65  98    63      40     73     96   \n",
            "mimikyu-disguised 2       7       ghost      fairy           55  90    80      50     105    96   \n",
            "bruxish         9       190     water      psychic         68  105   70      70     70     92   \n",
            "drampa          30      1850    normal     dragon          78  60    85      135    91     36   \n",
            "dhelmise        39      2100    ghost      grass           70  131   100     86     90     40   \n",
            "jangmo-o        6       297     dragon     None            45  55    65      45     45     45   \n",
            "hakamo-o        12      470     dragon     fighting        55  75    90      65     70     65   \n",
            "kommo-o         16      782     dragon     fighting        75  110   125     100    105    85   \n",
            "tapu-koko       18      205     electric   fairy           70  115   85      95     75     130  \n",
            "tapu-lele       12      186     psychic    fairy           70  85    75      130    115    95   \n",
            "tapu-bulu       19      455     grass      fairy           70  130   115     85     95     75   \n",
            "tapu-mie        19      205     fighting   fairy           70  89    112     115    110    95   \n",
            "tapu-fini       13      212     water      fairy           70  75    115     95     130    85   \n",
            "cosmog          2       1       psychic    None            43  29    31      29     31     37   \n",
            "cosmoem         1       9999    psychic    None            43  29    131     29     131    37   \n",
            "solgaleo        34      2300    psychic    steel           137 137   107     113    89     97   \n",
            "lunala          40      1200    psychic    ghost           137 113   89      137    107    97   \n",
            "nihilego        12      555     rock       poison          109 53    47      127    131    103  \n",
            "buzzwole        24      3336    bug        fighting        107 139   139     53     53     79   \n",
            "pheromosa       18      250     bug        fighting        71  137   37      137    37     151  \n",
            "xurkitree       38      1000    electric   None            83  89    71      173    71     83   \n",
            "celesteela      92      9999    steel      flying          97  101   103     107    101    61   \n",
            "kartana         3       1       grass      steel           59  181   131     59     31     109  \n",
            "guzzlord        55      8880    dark       dragon          223 101   53      97     53     43   \n",
            "necrozma        24      2300    psychic    None            97  107   101     127    89     79   \n",
            "magearna        10      805     steel      fairy           80  95    115     130    115    65   \n",
            "marshadow       7       222     fighting   ghost           90  125   80      90     90     125  \n",
            "poipole         6       18      poison     None            67  73    67      73     67     73   \n",
            "naganadel       36      1500    poison     dragon          73  73    73      127    73     121  \n",
            "stakataka       55      8200    rock       steel           61  131   211     53     101    13   \n",
            "blacephalon     18      130     fire       ghost           53  127   53      151    79     107  \n",
            "zeraora         15      445     electric   None            88  112   75      102    80     143  \n",
            "meltan          2       80      steel      None            46  65    65      55     35     34   \n",
            "melmetal        25      8000    steel      None            135 143   143     80     65     34   \n",
            "grookey         3       50      grass      None            50  65    50      40     40     65   \n",
            "thwackey        7       140     grass      None            70  85    70      55     60     80   \n",
            "rillaboom       21      900     grass      None            100 125   90      60     70     85   \n",
            "scorbunny       3       45      fire       None            50  71    40      40     40     69   \n",
            "raboot          6       90      fire       None            65  86    60      55     60     94   \n",
            "cinderace       14      330     fire       None            80  116   75      65     75     119  \n",
            "sobble          3       40      water      None            50  40    40      70     40     70   \n",
            "drizzile        7       115     water      None            65  60    55      95     55     90   \n",
            "inteleon        19      452     water      None            70  85    65      125    65     120  \n",
            "skwovet         3       25      normal     None            70  55    55      35     35     25   \n",
            "greedent        6       60      normal     None            120 95    95      55     75     20   \n",
            "rookidee        2       18      flying     None            38  47    35      33     35     57   \n",
            "corvisquire     8       160     flying     None            68  67    55      43     55     77   \n",
            "corviknight     22      750     flying     steel           98  87    105     53     85     67   \n",
            "blipbug         4       80      bug        None            25  20    20      25     45     45   \n",
            "dottler         4       195     bug        psychic         50  35    80      50     90     30   \n",
            "orbeetle        4       408     bug        psychic         60  45    110     80     120    90   \n",
            "nickit          6       89      dark       None            40  28    28      47     52     50   \n",
            "thievul         12      199     dark       None            70  58    58      87     92     90   \n",
            "gossifleur      4       22      grass      None            40  40    60      40     60     10   \n",
            "eldegoss        5       25      grass      None            60  50    90      80     120    60   \n",
            "wooloo          6       60      normal     None            42  40    55      40     45     48   \n",
            "dubwool         13      430     normal     None            72  80    100     60     90     88   \n",
            "chewtle         3       85      water      None            50  64    50      38     38     44   \n",
            "drednaw         10      1155    water      rock            90  115   90      48     68     74   \n",
            "yamper          3       135     electric   None            59  45    50      40     50     26   \n",
            "boltund         10      340     electric   None            69  90    60      90     60     121  \n",
            "rolycoly        3       120     rock       None            30  40    50      40     50     30   \n",
            "carkol          11      780     rock       fire            80  60    90      60     70     50   \n",
            "coalossal       28      3105    rock       fire            110 80    120     80     90     30   \n",
            "applin          2       5       grass      dragon          40  40    80      40     40     20   \n",
            "flapple         3       10      grass      dragon          70  110   80      95     60     70   \n",
            "appletun        4       130     grass      dragon          110 85    80      100    80     30   \n",
            "silicobra       22      76      ground     None            52  57    75      35     50     46   \n",
            "sandaconda      38      655     ground     None            72  107   125     65     70     71   \n",
            "cramorant       8       180     flying     water           70  85    55      85     95     85   \n",
            "arrokuda        5       10      water      None            41  63    40      40     30     66   \n",
            "barraskewda     13      300     water      None            61  123   60      60     50     136  \n",
            "toxel           4       110     electric   poison          40  38    35      54     35     40   \n",
            "toxtricity-amped 16      400     electric   poison          75  98    70      114    70     75   \n",
            "sizzlipede      7       10      fire       bug             50  65    45      50     50     45   \n",
            "centiskorch     30      1200    fire       bug             100 115   65      90     90     65   \n",
            "clobbopus       6       40      fighting   None            50  68    60      50     50     32   \n",
            "grapploct       16      390     fighting   None            80  118   90      70     80     42   \n",
            "sinistea        1       2       ghost      None            40  45    45      74     54     50   \n",
            "polteageist     2       4       ghost      None            60  65    65      134    114    70   \n",
            "hatenna         4       34      psychic    None            42  30    45      56     53     39   \n",
            "hattrem         6       48      psychic    None            57  40    65      86     73     49   \n",
            "hatterene       21      51      psychic    fairy           57  90    95      136    103    29   \n",
            "impidimp        4       55      dark       fairy           45  45    30      55     40     50   \n",
            "morgrem         8       125     dark       fairy           65  60    45      75     55     70   \n",
            "grimmsnarl      15      610     dark       fairy           95  120   65      95     75     60   \n",
            "obstagoon       16      460     dark       normal          93  90    101     60     81     95   \n",
            "perrserker      8       280     steel      None            70  110   100     50     60     50   \n",
            "cursola         10      4       ghost      None            60  95    50      145    130    30   \n",
            "sirfetchd       8       1170    fighting   None            62  135   95      68     82     65   \n",
            "mr-rime         15      582     ice        psychic         80  85    75      110    100    70   \n",
            "runerigus       16      666     ground     ghost           58  95    145     50     105    30   \n",
            "milcery         2       3       fairy      None            45  40    40      50     61     34   \n",
            "alcremie        3       5       fairy      None            65  60    75      110    121    64   \n",
            "falinks         30      620     fighting   None            65  100   100     70     60     75   \n",
            "pincurchin      3       10      electric   None            48  101   95      91     85     15   \n",
            "snom            3       38      ice        bug             30  25    35      45     30     20   \n",
            "frosmoth        13      420     ice        bug             70  65    60      125    90     65   \n",
            "stonjourner     25      5200    rock       None            100 125   135     20     20     70   \n",
            "eiscue-ice      14      890     ice        None            75  80    110     65     90     50   \n",
            "indeedee-male   9       280     psychic    normal          60  65    55      105    95     95   \n",
            "morpeko-full-belly 3       30      electric   dark            58  95    58      70     58     97   \n",
            "cufant          12      1000    steel      None            72  80    49      40     49     40   \n",
            "copperajah      30      6500    steel      None            122 130   69      80     69     30   \n",
            "dracozolt       18      1900    electric   dragon          90  100   90      80     70     75   \n",
            "arctozolt       23      1500    electric   ice             90  100   90      90     80     55   \n",
            "dracovish       23      2150    water      dragon          90  90    100     70     80     75   \n",
            "arctovish       20      1750    water      ice             90  90    100     80     90     55   \n",
            "duraludon       18      400     steel      dragon          70  95    115     120    50     85   \n",
            "dreepy          5       20      dragon     ghost           28  60    30      40     30     82   \n",
            "drakloak        14      110     dragon     ghost           68  80    50      60     50     102  \n",
            "dragapult       30      500     dragon     ghost           88  120   75      100    75     142  \n",
            "zacian          28      1100    fairy      None            92  130   115     80     115    138  \n",
            "zamazenta       29      2100    fighting   None            92  130   115     80     115    138  \n",
            "eternatus       200     9500    poison     dragon          140 85    95      145    95     130  \n"
          ]
        }
      ]
    },
    {
      "cell_type": "code",
      "source": [
        "pokemon_types = ['None', 'normal', 'fire', 'water', 'electric', 'grass', 'ice', 'fighting',\n",
        "                 'poison', 'ground', 'flying', 'psychic', 'bug', 'rock', 'ghost',\n",
        "                 'dragon', 'dark', 'steel', 'fairy']\n",
        "#Types of pokemons"
      ],
      "metadata": {
        "id": "C41zHwesIltt"
      },
      "execution_count": null,
      "outputs": []
    },
    {
      "cell_type": "markdown",
      "source": [
        "# Функция за коригиране на грешки\n",
        "\n",
        "Тази функция проверява дали типовете са написани граматически коректно и дали ги има в предефинирания list с типове покемони.\n",
        "\n",
        "Наблюдението от функцията ми е, че покемон с име \"herbizarre\" има сгрешени/невалидни параметри, а покемони с име \"snake\", \"doduo\" и \"jesusmon\" не същестуват.\n"
      ],
      "metadata": {
        "id": "gyc7Ot1NEbSE"
      }
    },
    {
      "cell_type": "code",
      "source": [
        "def fix_errors():\n",
        "    new_changes = changes.copy()\n",
        "    changed_rows = []\n",
        "    for row in changes.values():\n",
        "        # Fix technical errors in type and secondary type\n",
        "        new_type = find_closest_match(row['type'])\n",
        "        new_sec_type = find_closest_match(row['secundary type'])\n",
        "\n",
        "        if row['type'] != new_type or row['secundary type'] != new_sec_type:\n",
        "            changed_rows.append({\n",
        "                'name': row['name'],\n",
        "                'old_type': row['type'],\n",
        "                'new_type': new_type,\n",
        "                'old_sec_type': row['secundary type'],\n",
        "                'new_sec_type': new_sec_type\n",
        "            })\n",
        "\n",
        "            # changes[row['name']] = {'type': new_type, 'secundary type': new_sec_type}\n",
        "            new_changes[row['name']]['type'] = new_type\n",
        "            new_changes[row['name']]['secundary type'] = new_sec_type\n",
        "        else:\n",
        "            if new_type not in pokemon_types:\n",
        "                entries_to_remove = []\n",
        "                for pokemon, data in new_changes.items():\n",
        "                    if data['type'] == new_type or data['secundary type'] == new_type:\n",
        "                        entries_to_remove.append(pokemon)\n",
        "\n",
        "                for pokemon in entries_to_remove:\n",
        "                    print(\"Pokemon with name '\" + pokemon + \"' doesn't have correct type or doesn't exist\")\n",
        "                    new_changes.pop(pokemon)\n",
        "                continue\n",
        "            elif new_sec_type not in pokemon_types:\n",
        "                entries_to_remove = []\n",
        "                for pokemon, data in new_changes.items():\n",
        "                    if data['type'] == new_sec_type or data['secundary type'] == new_sec_type:\n",
        "                        entries_to_remove.append(pokemon)\n",
        "\n",
        "                for pokemon in entries_to_remove:\n",
        "                    print(\"Pokemon with name '\" + pokemon + \"' doesn't have correct type or doesn't exist\")\n",
        "                    new_changes.pop(pokemon)\n",
        "                continue\n",
        "\n",
        "    print(\"Data with fixed errors:\")\n",
        "    print(\"{:<15} {:<10} {:<15} {:<10} {:<15}\".format('Name', 'Old Type', 'New Type', 'Old Sec. Type', 'New Sec. Type'))\n",
        "    for row in changed_rows:\n",
        "        print(\"{:<15} {:<10} {:<15} {:<10} {:<15}\".format(row['name'], row['old_type'], row['new_type'], row['old_sec_type'], row['new_sec_type']))\n",
        "\n",
        "\n",
        "\n",
        "    return new_changes\n"
      ],
      "metadata": {
        "id": "1-RDccz9IoAw"
      },
      "execution_count": null,
      "outputs": []
    },
    {
      "cell_type": "code",
      "source": [
        "def find_closest_match(word):\n",
        "    if word.lower() not in pokemon_types:\n",
        "        closest_match = get_close_matches(word, pokemon_types, n=1)\n",
        "        if closest_match:\n",
        "            return closest_match[0]\n",
        "        return word\n",
        "    elif word == 'None':\n",
        "        return word\n",
        "    return word.lower()"
      ],
      "metadata": {
        "id": "qGMY5RbOIrl_"
      },
      "execution_count": null,
      "outputs": []
    },
    {
      "cell_type": "markdown",
      "source": [
        "``using the 'difflib' library so it can match the words properly based on what error is - if it is only that it has capital letters in the middle of the word - it just returns the word + the function .lower() and if not - it uses the get_close_matches() function from the library``"
      ],
      "metadata": {
        "id": "jx1VIXY6It9X"
      }
    },
    {
      "cell_type": "code",
      "source": [
        "changes = fix_errors()"
      ],
      "metadata": {
        "id": "bxFei-0cI2RE",
        "colab": {
          "base_uri": "https://localhost:8080/"
        },
        "outputId": "36ab326c-dd95-41f2-af3f-21b6cb029b07"
      },
      "execution_count": null,
      "outputs": [
        {
          "output_type": "stream",
          "name": "stdout",
          "text": [
            "Pokemon with name 'snake' doesn't have correct type or doesn't exist\n",
            "Pokemon with name 'jesusmon' doesn't have correct type or doesn't exist\n",
            "Pokemon with name 'doduo' doesn't have correct type or doesn't exist\n",
            "Pokemon with name '' doesn't have correct type or doesn't exist\n",
            "Data with fixed errors:\n",
            "Name            Old Type   New Type        Old Sec. Type New Sec. Type  \n",
            "herbizarre      grass      grass           PoIsOn     poison         \n"
          ]
        }
      ]
    },
    {
      "cell_type": "markdown",
      "source": [
        "# Функция за стандартизиране на параметрите\n",
        "\n",
        "Тази функция има за цел да стандартизира всички параметри да \"изглеждат\" по един и същ начин.\n",
        "В този случай аз правя всичко да е с малки букви.\n",
        "\n",
        "Наблюдението ми е, че навсякъде, където има \"None\", то става на \"none\""
      ],
      "metadata": {
        "id": "FE9aSmvNSgAk"
      }
    },
    {
      "cell_type": "code",
      "source": [
        "def standardize_case():\n",
        "    new_changes = changes.copy()\n",
        "    changed_rows = []\n",
        "    for row in changes.values():\n",
        "        new_type = row['type'].lower()\n",
        "        new_sec_type = row['secundary type'].lower()\n",
        "        if row['type'] != new_type or row['secundary type'] != new_sec_type:\n",
        "            changed_rows.append({\n",
        "                'name': row['name'],\n",
        "                'height': row['height'],\n",
        "                'weight': row['weight'],\n",
        "                'type': new_type,\n",
        "                'secundary type': new_sec_type,\n",
        "                'hp': row['hp'],\n",
        "                'attack': row['attack'],\n",
        "                'defense': row['defense'],\n",
        "                'sp atk': row['sp atk'],\n",
        "                'sp def': row['sp def'],\n",
        "                'speed': row['speed']\n",
        "            })\n",
        "            # changes[row['name']]['type'] = new_type\n",
        "            # changes[row['name']]['secundary type'] = new_sec_type\n",
        "            new_changes[row['name']]['type'] = new_type\n",
        "            new_changes[row['name']]['secundary type'] = new_sec_type\n",
        "\n",
        "    print(\"Data with standardized text format:\")\n",
        "    print_rows(changed_rows)\n",
        "\n",
        "    return new_changes"
      ],
      "metadata": {
        "id": "Zn7-7fW9I85Y"
      },
      "execution_count": null,
      "outputs": []
    },
    {
      "cell_type": "markdown",
      "source": [
        "```making everything into small letters```"
      ],
      "metadata": {
        "id": "sAVFpYl-I_Yo"
      }
    },
    {
      "cell_type": "code",
      "source": [
        "changes = standardize_case()"
      ],
      "metadata": {
        "id": "LHJ9Zl8oI9p_",
        "colab": {
          "base_uri": "https://localhost:8080/"
        },
        "outputId": "4353ab63-2388-404f-a4d9-8b0fd4993e6e"
      },
      "execution_count": null,
      "outputs": [
        {
          "output_type": "stream",
          "name": "stdout",
          "text": [
            "Data with standardized text format:\n",
            "Name            Height  Weight  Type       Secondary Type  HP  Attack Defense Sp Atk Sp Def Speed\n",
            "charmander      6       85      fire       none            39  52    43      60     50     65   \n",
            "charmeleon      11      190     fire       none            58  64    58      80     65     80   \n",
            "squirtle        5       90      water      none            44  48    65      50     64     43   \n",
            "wartortle       10      225     water      none            59  63    80      65     80     58   \n",
            "blastoise       16      855     water      none            79  83    100     85     105    78   \n",
            "caterpie        3       29      bug        none            45  30    35      20     20     45   \n",
            "metapod         7       99      bug        none            50  20    55      25     25     30   \n",
            "rattata         3       35      normal     none            30  56    35      25     35     72   \n",
            "raticate        7       185     normal     none            55  81    60      50     70     97   \n",
            "ekans           20      69      poison     none            35  60    44      40     54     55   \n",
            "arbok           35      650     poison     none            60  95    69      65     79     80   \n",
            "pikachu         4       60      electric   none            35  55    40      50     50     90   \n",
            "raichu          8       300     electric   none            60  90    55      90     80     110  \n",
            "sandshrew       6       120     ground     none            50  75    85      20     30     40   \n",
            "sandslash       10      295     ground     none            75  100   110     45     55     65   \n",
            "nidoran-f       4       70      poison     none            55  47    52      40     40     41   \n",
            "nidorina        8       200     poison     none            70  62    67      55     55     56   \n",
            "nidoran-m       5       90      poison     none            46  57    40      40     40     50   \n",
            "nidorino        9       195     poison     none            61  72    57      55     55     65   \n",
            "clefairy        6       75      fairy      none            70  45    48      60     65     35   \n",
            "clefable        13      400     fairy      none            95  70    73      95     90     60   \n",
            "vulpix          6       99      fire       none            38  41    40      50     65     65   \n",
            "ninetales       11      199     fire       none            73  76    75      81     100    100  \n",
            "diglett         2       8       ground     none            10  55    25      35     45     95   \n",
            "dugtrio         7       333     ground     none            35  100   50      50     70     120  \n",
            "meowth          4       42      normal     none            40  45    35      40     40     90   \n",
            "persian         10      320     normal     none            65  70    60      65     65     115  \n",
            "psyduck         8       196     water      none            50  52    48      65     50     55   \n",
            "golduck         17      766     water      none            80  82    78      95     80     85   \n",
            "mankey          5       280     fighting   none            40  80    35      35     45     70   \n",
            "primeape        10      320     fighting   none            65  105   60      60     70     95   \n",
            "growlithe       7       190     fire       none            55  70    45      70     50     60   \n",
            "arcanine        19      1550    fire       none            90  110   80      100    80     95   \n",
            "poliwag         6       124     water      none            40  50    40      40     40     90   \n",
            "poliwhirl       10      200     water      none            65  65    65      50     50     90   \n",
            "abra            9       195     psychic    none            25  20    15      105    55     90   \n",
            "kadabra         13      565     psychic    none            40  35    30      120    70     105  \n",
            "alakazam        15      480     psychic    none            55  50    45      135    95     120  \n",
            "machop          8       195     fighting   none            70  80    50      35     35     35   \n",
            "machoke         15      705     fighting   none            80  100   70      50     60     45   \n",
            "machamp         16      1300    fighting   none            90  130   80      65     85     55   \n",
            "ponyta          10      300     fire       none            50  85    55      65     65     90   \n",
            "rapidash        17      950     fire       none            65  100   70      80     80     105  \n",
            "seel            11      900     water      none            65  45    55      45     70     45   \n",
            "grimer          9       300     poison     none            80  80    50      40     50     25   \n",
            "muk             12      300     poison     none            105 105   75      65     100    50   \n",
            "shellder        3       40      water      none            30  65    100     45     25     40   \n",
            "drowzee         10      324     psychic    none            60  48    45      43     90     42   \n",
            "hypno           16      756     psychic    none            85  73    70      73     115    67   \n",
            "krabby          4       65      water      none            30  105   90      25     25     50   \n",
            "kingler         13      600     water      none            55  130   115     50     50     75   \n",
            "voltorb         5       104     electric   none            40  30    50      55     55     100  \n",
            "electrode       12      666     electric   none            60  50    70      80     80     150  \n",
            "cubone          4       65      ground     none            50  50    95      40     50     35   \n",
            "marowak         10      450     ground     none            60  80    110     50     80     45   \n",
            "hitmonlee       15      498     fighting   none            50  120   53      35     110    87   \n",
            "hitmonchan      14      502     fighting   none            50  105   79      35     110    76   \n",
            "lickitung       12      655     normal     none            90  55    75      60     75     30   \n",
            "koffing         6       10      poison     none            40  65    95      60     45     35   \n",
            "weezing         12      95      poison     none            65  90    120     85     70     60   \n",
            "chansey         11      346     normal     none            250 5     5       35     105    50   \n",
            "tangela         10      350     grass      none            65  55    115     100    40     60   \n",
            "kangaskhan      22      800     normal     none            105 95    80      40     80     90   \n",
            "horsea          4       80      water      none            30  40    70      70     25     60   \n",
            "seadra          12      250     water      none            55  65    95      95     45     85   \n",
            "goldeen         6       150     water      none            45  67    60      35     50     63   \n",
            "seaking         13      390     water      none            80  92    65      65     80     68   \n",
            "staryu          8       345     water      none            30  45    55      70     55     85   \n",
            "electabuzz      11      300     electric   none            65  83    57      95     85     105  \n",
            "magmar          13      445     fire       none            65  95    57      100    85     93   \n",
            "pinsir          15      550     bug        none            65  125   100     55     70     85   \n",
            "tauros          14      884     normal     none            75  100   95      40     70     110  \n",
            "magikarp        9       100     water      none            20  10    55      15     20     80   \n",
            "ditto           3       40      normal     none            48  48    48      48     48     48   \n",
            "eevee           3       65      normal     none            55  55    50      45     65     55   \n",
            "vaporeon        10      290     water      none            130 65    60      110    95     65   \n",
            "jolteon         8       245     electric   none            65  65    60      110    95     130  \n",
            "flareon         9       250     fire       none            65  130   60      95     110    65   \n",
            "porygon         8       365     normal     none            65  60    70      85     75     40   \n",
            "snorlax         21      4600    normal     none            160 110   65      65     110    30   \n",
            "dratini         18      33      dragon     none            41  64    45      50     50     50   \n",
            "dragonair       40      165     dragon     none            61  84    65      70     70     70   \n",
            "mewtwo          20      1220    psychic    none            106 110   90      154    90     130  \n",
            "mew             4       40      psychic    none            100 100   100     100    100    100  \n",
            "chikorita       9       64      grass      none            45  49    65      49     65     45   \n",
            "bayleef         12      158     grass      none            60  62    80      63     80     60   \n",
            "meganium        18      1005    grass      none            80  82    100     83     100    80   \n",
            "cyndaquil       5       79      fire       none            39  52    43      60     50     65   \n",
            "quilava         9       190     fire       none            58  64    58      80     65     80   \n",
            "typhlosion      17      795     fire       none            78  84    78      109    85     100  \n",
            "totodile        6       95      water      none            50  65    64      44     48     43   \n",
            "croconaw        11      250     water      none            65  80    80      59     63     58   \n",
            "feraligatr      23      888     water      none            85  105   100     79     83     78   \n",
            "sentret         8       60      normal     none            35  46    34      35     45     20   \n",
            "furret          18      325     normal     none            85  76    64      45     55     90   \n",
            "pichu           3       20      electric   none            20  40    15      35     35     60   \n",
            "cleffa          3       30      fairy      none            50  25    28      45     55     15   \n",
            "togepi          3       15      fairy      none            35  20    65      40     65     20   \n",
            "mareep          6       78      electric   none            55  40    40      65     45     35   \n",
            "flaaffy         8       133     electric   none            70  55    55      80     60     45   \n",
            "ampharos        14      615     electric   none            90  75    85      115    90     55   \n",
            "bellossom       4       58      grass      none            75  80    95      90     100    50   \n",
            "sudowoodo       12      380     rock       none            70  100   115     30     65     30   \n",
            "politoed        11      339     water      none            90  75    75      90     100    70   \n",
            "aipom           8       115     normal     none            55  70    55      40     55     85   \n",
            "sunkern         3       18      grass      none            30  30    30      30     30     30   \n",
            "sunflora        8       85      grass      none            75  75    55      105    85     30   \n",
            "espeon          9       265     psychic    none            65  65    60      130    95     110  \n",
            "umbreon         10      270     dark       none            95  65    110     60     130    65   \n",
            "misdreavus      7       10      ghost      none            60  60    60      85     85     85   \n",
            "unown           5       50      psychic    none            48  72    48      72     48     48   \n",
            "wobbuffet       13      285     psychic    none            190 33    58      33     58     33   \n",
            "pineco          6       72      bug        none            50  65    90      35     35     15   \n",
            "dunsparce       15      140     normal     none            100 70    70      65     65     45   \n",
            "snubbull        6       78      fairy      none            60  80    50      40     40     30   \n",
            "granbull        14      487     fairy      none            90  120   75      60     60     45   \n",
            "teddiursa       6       88      normal     none            60  80    50      50     50     40   \n",
            "ursaring        18      1258    normal     none            90  130   75      75     75     55   \n",
            "slugma          7       350     fire       none            40  40    40      70     40     20   \n",
            "remoraid        6       120     water      none            35  65    35      65     35     65   \n",
            "octillery       9       285     water      none            75  105   75      105    75     45   \n",
            "phanpy          5       335     ground     none            90  60    60      40     40     40   \n",
            "donphan         11      1200    ground     none            90  120   120     60     60     50   \n",
            "porygon2        6       325     normal     none            85  80    90      105    95     60   \n",
            "stantler        14      712     normal     none            73  95    62      85     65     85   \n",
            "smeargle        12      580     normal     none            55  20    35      20     45     75   \n",
            "tyrogue         7       210     fighting   none            35  35    35      35     35     35   \n",
            "hitmontop       14      480     fighting   none            50  95    95      35     110    70   \n",
            "elekid          6       235     electric   none            45  63    37      65     55     95   \n",
            "magby           7       214     fire       none            45  75    37      70     55     83   \n",
            "miltank         12      755     normal     none            95  80    105     40     70     100  \n",
            "blissey         15      468     normal     none            255 10    10      75     135    55   \n",
            "raikou          19      1780    electric   none            90  85    75      115    100    115  \n",
            "entei           21      1980    fire       none            115 115   85      90     75     100  \n",
            "suicune         20      1870    water      none            100 75    115     90     115    85   \n",
            "treecko         5       50      grass      none            40  45    35      65     55     70   \n",
            "grovyle         9       216     grass      none            50  65    45      85     65     95   \n",
            "sceptile        17      522     grass      none            70  85    65      105    85     120  \n",
            "torchic         4       25      fire       none            45  60    40      70     50     45   \n",
            "mudkip          4       76      water      none            50  70    50      50     50     40   \n",
            "poochyena       5       136     dark       none            35  55    35      30     30     35   \n",
            "mightyena       10      370     dark       none            70  90    70      60     60     70   \n",
            "zigzagoon       4       175     normal     none            38  30    41      30     41     60   \n",
            "linoone         5       325     normal     none            78  70    61      50     61     100  \n",
            "wurmple         3       36      bug        none            45  45    35      20     30     20   \n",
            "silcoon         6       100     bug        none            50  35    55      25     25     15   \n",
            "cascoon         7       115     bug        none            50  35    55      25     25     15   \n",
            "seedot          5       40      grass      none            40  40    50      30     30     30   \n",
            "shroomish       4       45      grass      none            60  40    60      40     60     35   \n",
            "slakoth         8       240     normal     none            60  60    60      35     35     30   \n",
            "vigoroth        14      465     normal     none            80  80    80      55     55     90   \n",
            "slaking         20      1305    normal     none            150 160   100     95     65     100  \n",
            "whismur         6       163     normal     none            64  51    23      51     23     28   \n",
            "loudred         10      405     normal     none            84  71    43      71     43     48   \n",
            "exploud         15      840     normal     none            104 91    63      91     73     68   \n",
            "makuhita        10      864     fighting   none            72  60    30      20     30     25   \n",
            "hariyama        23      2538    fighting   none            144 120   60      40     60     50   \n",
            "nosepass        10      970     rock       none            30  45    135     45     90     30   \n",
            "skitty          6       110     normal     none            50  45    45      35     35     50   \n",
            "delcatty        11      326     normal     none            70  65    65      55     55     90   \n",
            "electrike       6       152     electric   none            40  45    40      65     40     65   \n",
            "manectric       15      402     electric   none            70  75    60      105    60     105  \n",
            "plusle          4       42      electric   none            60  50    40      85     75     95   \n",
            "minun           4       42      electric   none            60  40    50      75     85     95   \n",
            "volbeat         7       177     bug        none            65  73    75      47     85     85   \n",
            "illumise        6       177     bug        none            65  47    75      73     85     85   \n",
            "gulpin          4       103     poison     none            70  43    53      43     53     40   \n",
            "swalot          17      800     poison     none            100 73    83      73     83     55   \n",
            "wailmer         20      1300    water      none            130 70    35      70     35     60   \n",
            "wailord         145     3980    water      none            170 90    45      90     45     60   \n",
            "torkoal         5       804     fire       none            70  85    140     85     70     20   \n",
            "spoink          7       306     psychic    none            60  25    35      70     80     60   \n",
            "grumpig         9       715     psychic    none            80  45    65      90     110    80   \n",
            "spinda          11      50      normal     none            60  60    60      60     60     60   \n",
            "trapinch        7       150     ground     none            45  100   45      45     45     10   \n",
            "cacnea          4       513     grass      none            50  85    40      85     40     35   \n",
            "zangoose        13      403     normal     none            73  115   60      60     60     90   \n",
            "seviper         27      525     poison     none            73  100   60      100    60     65   \n",
            "corphish        6       115     water      none            43  80    65      50     35     35   \n",
            "feebas          6       74      water      none            20  15    20      10     55     80   \n",
            "milotic         62      1620    water      none            95  60    79      100    125    81   \n",
            "castform        3       8       normal     none            70  70    70      70     70     70   \n",
            "kecleon         10      220     normal     none            60  90    70      60     120    40   \n",
            "shuppet         6       23      ghost      none            44  75    35      63     33     45   \n",
            "banette         11      125     ghost      none            64  115   65      83     63     65   \n",
            "duskull         8       150     ghost      none            20  40    90      30     90     25   \n",
            "dusclops        16      306     ghost      none            40  70    130     60     130    25   \n",
            "chimecho        6       10      psychic    none            75  50    80      95     90     65   \n",
            "absol           12      470     dark       none            65  130   60      75     60     75   \n",
            "wynaut          6       140     psychic    none            95  23    48      23     48     23   \n",
            "snorunt         7       168     ice        none            50  50    50      50     50     50   \n",
            "glalie          15      2565    ice        none            80  80    80      80     80     80   \n",
            "clamperl        4       525     water      none            35  64    85      74     55     32   \n",
            "huntail         17      270     water      none            55  104   105     94     75     52   \n",
            "gorebyss        18      226     water      none            55  84    105     114    75     52   \n",
            "luvdisc         6       87      water      none            43  30    55      40     65     97   \n",
            "bagon           6       421     dragon     none            45  75    60      40     30     50   \n",
            "shelgon         11      1105    dragon     none            65  95    100     60     50     50   \n",
            "regirock        17      2300    rock       none            80  100   200     50     100    50   \n",
            "regice          18      1750    ice        none            80  50    100     100    200    50   \n",
            "registeel       19      2050    steel      none            80  75    150     75     150    50   \n",
            "kyogre          45      3520    water      none            100 100   90      150    140    90   \n",
            "groudon         35      9500    ground     none            100 150   140     100    90     90   \n",
            "deoxys-normal   17      608     psychic    none            50  150   50      150    50     150  \n",
            "turtwig         4       102     grass      none            55  68    64      45     55     31   \n",
            "grotle          11      970     grass      none            75  89    85      55     65     36   \n",
            "chimchar        5       62      fire       none            44  58    44      58     44     61   \n",
            "piplup          4       52      water      none            53  51    53      61     56     40   \n",
            "prinplup        8       230     water      none            64  66    68      81     76     50   \n",
            "bidoof          5       200     normal     none            59  45    40      35     40     31   \n",
            "kricketot       3       22      bug        none            37  25    41      25     41     25   \n",
            "kricketune      10      255     bug        none            77  85    51      55     51     65   \n",
            "shinx           5       95      electric   none            45  65    34      40     34     45   \n",
            "luxio           9       305     electric   none            60  85    49      60     49     60   \n",
            "luxray          14      420     electric   none            80  120   79      95     79     70   \n",
            "cranidos        9       315     rock       none            67  125   40      30     30     58   \n",
            "rampardos       16      1025    rock       none            97  165   60      65     50     58   \n",
            "burmy           2       34      bug        none            40  29    45      29     45     36   \n",
            "pachirisu       4       39      electric   none            60  45    70      45     90     95   \n",
            "buizel          7       295     water      none            55  65    35      60     30     85   \n",
            "floatzel        11      335     water      none            85  105   55      85     50     115  \n",
            "cherubi         4       33      grass      none            45  35    45      62     53     35   \n",
            "cherrim         5       93      grass      none            70  60    70      87     78     85   \n",
            "shellos         3       63      water      none            76  48    48      57     62     34   \n",
            "ambipom         12      203     normal     none            75  100   66      60     66     115  \n",
            "buneary         4       55      normal     none            55  66    44      44     56     85   \n",
            "lopunny         12      333     normal     none            65  76    84      54     96     105  \n",
            "mismagius       9       44      ghost      none            60  60    60      105    105    105  \n",
            "glameow         5       39      normal     none            49  55    42      42     37     85   \n",
            "purugly         10      438     normal     none            71  82    64      64     59     112  \n",
            "chingling       2       6       psychic    none            45  30    50      65     50     45   \n",
            "bonsly          5       150     rock       none            50  80    95      10     45     10   \n",
            "happiny         6       244     normal     none            100 5     5       15     65     30   \n",
            "munchlax        6       1050    normal     none            135 85    40      40     85     5    \n",
            "riolu           7       202     fighting   none            40  70    40      35     40     60   \n",
            "hippopotas      8       495     ground     none            68  72    78      38     42     32   \n",
            "hippowdon       20      3000    ground     none            108 112   118     68     72     47   \n",
            "carnivine       14      270     grass      none            74  100   72      90     72     46   \n",
            "finneon         4       70      water      none            49  49    56      49     61     66   \n",
            "lumineon        12      240     water      none            69  69    76      69     86     91   \n",
            "lickilicky      17      1400    normal     none            110 85    95      80     95     50   \n",
            "tangrowth       20      1286    grass      none            100 100   125     110    50     50   \n",
            "electivire      18      1386    electric   none            75  123   67      95     85     95   \n",
            "magmortar       16      680     fire       none            75  95    67      125    95     83   \n",
            "leafeon         10      255     grass      none            65  110   130     60     65     95   \n",
            "glaceon         8       259     ice        none            65  60    110     130    95     65   \n",
            "porygon-z       9       340     normal     none            85  80    70      135    75     90   \n",
            "dusknoir        22      1066    ghost      none            45  100   135     65     135    45   \n",
            "uxie            3       3       psychic    none            75  75    130     75     130    95   \n",
            "mesprit         3       3       psychic    none            80  105   105     105    105    80   \n",
            "azelf           3       3       psychic    none            75  125   70      125    70     115  \n",
            "regigigas       37      4200    normal     none            110 160   110     80     110    100  \n",
            "cresselia       15      856     psychic    none            120 70    120     75     130    85   \n",
            "phione          4       31      water      none            80  80    80      80     80     80   \n",
            "manaphy         3       14      water      none            100 100   100     100    100    100  \n",
            "darkrai         15      505     dark       none            70  90    90      135    90     125  \n",
            "shaymin-land    2       21      grass      none            100 100   100     100    100    100  \n",
            "arceus          32      3200    normal     none            120 120   120     120    120    120  \n",
            "snivy           6       81      grass      none            45  45    55      45     55     63   \n",
            "servine         8       160     grass      none            60  60    75      60     75     83   \n",
            "serperior       33      630     grass      none            75  75    95      75     95     113  \n",
            "tepig           5       99      fire       none            65  63    45      45     45     45   \n",
            "oshawott        5       59      water      none            55  55    45      63     45     45   \n",
            "dewott          8       245     water      none            75  75    60      83     60     60   \n",
            "samurott        15      946     water      none            95  100   85      108    70     70   \n",
            "patrat          5       116     normal     none            45  55    39      35     39     42   \n",
            "watchog         11      270     normal     none            60  85    69      60     69     77   \n",
            "lillipup        4       41      normal     none            45  60    45      25     45     55   \n",
            "herdier         9       147     normal     none            65  80    65      35     65     60   \n",
            "stoutland       12      610     normal     none            85  110   90      45     90     80   \n",
            "purrloin        4       101     dark       none            41  50    37      50     37     66   \n",
            "liepard         11      375     dark       none            64  88    50      88     50     106  \n",
            "pansage         6       105     grass      none            50  53    48      53     48     64   \n",
            "simisage        11      305     grass      none            75  98    63      98     63     101  \n",
            "pansear         6       110     fire       none            50  53    48      53     48     64   \n",
            "simisear        10      280     fire       none            75  98    63      98     63     101  \n",
            "panpour         6       135     water      none            50  53    48      53     48     64   \n",
            "simipour        10      290     water      none            75  98    63      98     63     101  \n",
            "munna           6       233     psychic    none            76  25    45      67     55     24   \n",
            "musharna        11      605     psychic    none            116 55    85      107    95     29   \n",
            "blitzle         8       298     electric   none            45  60    32      50     32     76   \n",
            "zebstrika       16      795     electric   none            75  100   63      80     63     116  \n",
            "roggenrola      4       180     rock       none            55  75    85      25     25     15   \n",
            "boldore         9       1020    rock       none            70  105   105     50     40     20   \n",
            "gigalith        17      2600    rock       none            85  135   130     60     80     25   \n",
            "drilbur         3       85      ground     none            60  85    40      30     45     68   \n",
            "audino          11      310     normal     none            103 60    86      60     86     50   \n",
            "timburr         6       125     fighting   none            75  80    55      25     35     35   \n",
            "gurdurr         12      400     fighting   none            85  105   85      40     50     40   \n",
            "conkeldurr      14      870     fighting   none            105 140   95      55     65     45   \n",
            "tympole         5       45      water      none            50  50    40      50     40     64   \n",
            "throh           13      555     fighting   none            120 100   85      30     85     45   \n",
            "sawk            14      510     fighting   none            75  125   75      30     75     85   \n",
            "petilil         5       66      grass      none            45  35    50      70     50     30   \n",
            "lilligant       11      163     grass      none            70  60    75      110    75     90   \n",
            "basculin-red-striped 10      180     water      none            70  92    65      80     55     98   \n",
            "darumaka        6       375     fire       none            70  90    45      15     45     50   \n",
            "darmanitan-standard 13      929     fire       none            105 140   55      30     55     95   \n",
            "maractus        10      280     grass      none            75  86    67      106    67     60   \n",
            "yamask          5       15      ghost      none            38  30    85      55     65     30   \n",
            "cofagrigus      17      765     ghost      none            58  50    145     95     105    30   \n",
            "trubbish        6       310     poison     none            50  50    62      40     62     65   \n",
            "garbodor        19      1073    poison     none            80  95    82      60     82     75   \n",
            "zorua           7       125     dark       none            40  65    40      80     40     65   \n",
            "zoroark         16      811     dark       none            60  105   60      120    60     105  \n",
            "minccino        4       58      normal     none            55  50    40      40     40     75   \n",
            "cinccino        5       75      normal     none            75  95    60      65     60     115  \n",
            "gothita         4       58      psychic    none            45  30    50      55     65     45   \n",
            "gothorita       7       180     psychic    none            60  45    70      75     85     55   \n",
            "gothitelle      15      440     psychic    none            70  55    95      95     110    65   \n",
            "solosis         3       10      psychic    none            45  30    40      105    50     20   \n",
            "duosion         6       80      psychic    none            65  40    50      125    60     30   \n",
            "reuniclus       10      201     psychic    none            110 65    75      125    85     30   \n",
            "vanillite       4       57      ice        none            36  50    50      65     60     44   \n",
            "vanillish       11      410     ice        none            51  65    65      80     75     59   \n",
            "vanilluxe       13      575     ice        none            71  95    85      110    95     79   \n",
            "karrablast      5       59      bug        none            50  75    45      40     45     60   \n",
            "alomomola       12      316     water      none            165 75    80      40     45     65   \n",
            "klink           3       210     steel      none            40  55    70      45     60     30   \n",
            "klang           6       510     steel      none            60  80    95      70     85     50   \n",
            "klinklang       6       810     steel      none            60  100   115     70     85     90   \n",
            "tynamo          2       3       electric   none            35  55    40      45     40     60   \n",
            "eelektrik       12      220     electric   none            65  85    70      75     70     40   \n",
            "eelektross      21      805     electric   none            85  115   80      105    80     50   \n",
            "elgyem          5       90      psychic    none            55  55    55      85     55     30   \n",
            "beheeyem        10      345     psychic    none            75  75    75      125    95     40   \n",
            "axew            6       180     dragon     none            46  87    60      30     40     57   \n",
            "fraxure         10      360     dragon     none            66  117   70      40     50     67   \n",
            "haxorus         18      1055    dragon     none            76  147   90      60     70     97   \n",
            "cubchoo         5       85      ice        none            55  70    40      60     40     40   \n",
            "beartic         26      2600    ice        none            95  130   80      70     80     50   \n",
            "cryogonal       11      1480    ice        none            80  50    50      95     135    105  \n",
            "shelmet         4       77      bug        none            50  40    85      40     65     25   \n",
            "accelgor        8       253     bug        none            80  70    40      100    60     145  \n",
            "mienfoo         9       200     fighting   none            45  85    50      55     50     65   \n",
            "mienshao        14      355     fighting   none            65  125   60      95     60     105  \n",
            "druddigon       16      1390    dragon     none            77  120   90      60     90     48   \n",
            "bouffalant      16      946     normal     none            95  110   95      40     95     55   \n",
            "heatmor         14      580     fire       none            85  97    66      105    66     65   \n",
            "tornadus-incarnate 15      630     flying     none            79  115   70      125    80     111  \n",
            "chespin         4       90      grass      none            56  61    65      48     45     38   \n",
            "quilladin       7       290     grass      none            61  78    95      56     58     57   \n",
            "fennekin        4       94      fire       none            40  45    40      62     60     60   \n",
            "braixen         10      145     fire       none            59  59    58      90     70     73   \n",
            "froakie         3       70      water      none            41  56    40      62     44     71   \n",
            "frogadier       6       109     water      none            54  63    52      83     56     97   \n",
            "bunnelby        4       50      normal     none            38  36    38      32     36     57   \n",
            "scatterbug      3       25      bug        none            38  35    40      27     25     35   \n",
            "spewpa          3       84      bug        none            45  22    60      27     30     29   \n",
            "flabebe         1       1       fairy      none            44  38    39      61     79     42   \n",
            "floette         2       9       fairy      none            54  45    47      75     98     52   \n",
            "florges         11      100     fairy      none            78  65    68      112    154    75   \n",
            "skiddo          9       310     grass      none            66  65    48      62     57     52   \n",
            "gogoat          17      910     grass      none            123 100   62      97     81     68   \n",
            "pancham         6       80      fighting   none            67  82    62      46     48     43   \n",
            "furfrou         12      280     normal     none            75  80    60      65     90     102  \n",
            "espurr          3       35      psychic    none            62  48    54      63     60     68   \n",
            "meowstic-male   6       85      psychic    none            74  48    76      83     81     104  \n",
            "spritzee        2       5       fairy      none            78  52    60      63     65     23   \n",
            "aromatisse      8       155     fairy      none            101 72    72      99     89     29   \n",
            "swirlix         4       35      fairy      none            62  48    66      59     57     49   \n",
            "slurpuff        8       50      fairy      none            82  80    86      85     75     72   \n",
            "clauncher       5       83      water      none            50  53    62      58     63     44   \n",
            "clawitzer       13      353     water      none            71  73    88      120    89     59   \n",
            "sylveon         10      235     fairy      none            95  65    65      110    130    60   \n",
            "goomy           3       28      dragon     none            45  50    35      55     75     40   \n",
            "sliggoo         8       175     dragon     none            68  75    53      83     113    60   \n",
            "goodra          20      1505    dragon     none            90  100   70      110    150    80   \n",
            "bergmite        10      995     ice        none            55  69    85      32     35     28   \n",
            "avalugg         20      5050    ice        none            95  117   184     44     46     28   \n",
            "xerneas         30      2150    fairy      none            126 131   95      131    98     99   \n",
            "litten          4       43      fire       none            45  65    40      60     40     70   \n",
            "torracat        7       250     fire       none            65  85    50      80     50     90   \n",
            "popplio         4       75      water      none            50  54    54      66     56     40   \n",
            "brionne         6       175     water      none            60  69    69      91     81     50   \n",
            "yungoos         4       60      normal     none            48  70    30      30     30     45   \n",
            "gumshoos        7       142     normal     none            88  110   60      55     60     45   \n",
            "grubbin         4       44      bug        none            47  62    45      55     45     46   \n",
            "crabrawler      6       70      fighting   none            47  82    57      42     47     63   \n",
            "rockruff        5       92      rock       none            45  65    40      30     40     60   \n",
            "lycanroc-midday 8       250     rock       none            75  115   65      55     65     112  \n",
            "wishiwashi-solo 2       3       water      none            45  20    20      25     25     40   \n",
            "mudbray         10      1100    ground     none            70  100   70      45     55     45   \n",
            "mudsdale        25      9200    ground     none            100 125   100     55     85     35   \n",
            "fomantis        3       15      grass      none            40  55    35      50     35     35   \n",
            "lurantis        9       185     grass      none            70  105   90      80     90     45   \n",
            "bounsweet       3       32      grass      none            42  30    38      30     38     32   \n",
            "steenee         7       82      grass      none            52  40    48      40     48     62   \n",
            "tsareena        12      214     grass      none            72  120   98      50     98     72   \n",
            "comfey          1       3       fairy      none            51  52    90      82     110    100  \n",
            "passimian       20      828     fighting   none            100 120   90      40     60     80   \n",
            "pyukumuku       3       12      water      none            55  60    130     30     130    5    \n",
            "type-null       19      1205    normal     none            95  95    95      95     95     59   \n",
            "silvally        23      1005    normal     none            95  95    95      95     95     95   \n",
            "komala          4       199     normal     none            65  115   65      75     95     65   \n",
            "jangmo-o        6       297     dragon     none            45  55    65      45     45     45   \n",
            "cosmog          2       1       psychic    none            43  29    31      29     31     37   \n",
            "cosmoem         1       9999    psychic    none            43  29    131     29     131    37   \n",
            "xurkitree       38      1000    electric   none            83  89    71      173    71     83   \n",
            "necrozma        24      2300    psychic    none            97  107   101     127    89     79   \n",
            "poipole         6       18      poison     none            67  73    67      73     67     73   \n",
            "zeraora         15      445     electric   none            88  112   75      102    80     143  \n",
            "meltan          2       80      steel      none            46  65    65      55     35     34   \n",
            "melmetal        25      8000    steel      none            135 143   143     80     65     34   \n",
            "grookey         3       50      grass      none            50  65    50      40     40     65   \n",
            "thwackey        7       140     grass      none            70  85    70      55     60     80   \n",
            "rillaboom       21      900     grass      none            100 125   90      60     70     85   \n",
            "scorbunny       3       45      fire       none            50  71    40      40     40     69   \n",
            "raboot          6       90      fire       none            65  86    60      55     60     94   \n",
            "cinderace       14      330     fire       none            80  116   75      65     75     119  \n",
            "sobble          3       40      water      none            50  40    40      70     40     70   \n",
            "drizzile        7       115     water      none            65  60    55      95     55     90   \n",
            "inteleon        19      452     water      none            70  85    65      125    65     120  \n",
            "skwovet         3       25      normal     none            70  55    55      35     35     25   \n",
            "greedent        6       60      normal     none            120 95    95      55     75     20   \n",
            "rookidee        2       18      flying     none            38  47    35      33     35     57   \n",
            "corvisquire     8       160     flying     none            68  67    55      43     55     77   \n",
            "blipbug         4       80      bug        none            25  20    20      25     45     45   \n",
            "nickit          6       89      dark       none            40  28    28      47     52     50   \n",
            "thievul         12      199     dark       none            70  58    58      87     92     90   \n",
            "gossifleur      4       22      grass      none            40  40    60      40     60     10   \n",
            "eldegoss        5       25      grass      none            60  50    90      80     120    60   \n",
            "wooloo          6       60      normal     none            42  40    55      40     45     48   \n",
            "dubwool         13      430     normal     none            72  80    100     60     90     88   \n",
            "chewtle         3       85      water      none            50  64    50      38     38     44   \n",
            "yamper          3       135     electric   none            59  45    50      40     50     26   \n",
            "boltund         10      340     electric   none            69  90    60      90     60     121  \n",
            "rolycoly        3       120     rock       none            30  40    50      40     50     30   \n",
            "silicobra       22      76      ground     none            52  57    75      35     50     46   \n",
            "sandaconda      38      655     ground     none            72  107   125     65     70     71   \n",
            "arrokuda        5       10      water      none            41  63    40      40     30     66   \n",
            "barraskewda     13      300     water      none            61  123   60      60     50     136  \n",
            "clobbopus       6       40      fighting   none            50  68    60      50     50     32   \n",
            "grapploct       16      390     fighting   none            80  118   90      70     80     42   \n",
            "sinistea        1       2       ghost      none            40  45    45      74     54     50   \n",
            "polteageist     2       4       ghost      none            60  65    65      134    114    70   \n",
            "hatenna         4       34      psychic    none            42  30    45      56     53     39   \n",
            "hattrem         6       48      psychic    none            57  40    65      86     73     49   \n",
            "perrserker      8       280     steel      none            70  110   100     50     60     50   \n",
            "cursola         10      4       ghost      none            60  95    50      145    130    30   \n",
            "sirfetchd       8       1170    fighting   none            62  135   95      68     82     65   \n",
            "milcery         2       3       fairy      none            45  40    40      50     61     34   \n",
            "alcremie        3       5       fairy      none            65  60    75      110    121    64   \n",
            "falinks         30      620     fighting   none            65  100   100     70     60     75   \n",
            "pincurchin      3       10      electric   none            48  101   95      91     85     15   \n",
            "stonjourner     25      5200    rock       none            100 125   135     20     20     70   \n",
            "eiscue-ice      14      890     ice        none            75  80    110     65     90     50   \n",
            "cufant          12      1000    steel      none            72  80    49      40     49     40   \n",
            "copperajah      30      6500    steel      none            122 130   69      80     69     30   \n",
            "zacian          28      1100    fairy      none            92  130   115     80     115    138  \n",
            "zamazenta       29      2100    fighting   none            92  130   115     80     115    138  \n"
          ]
        }
      ]
    },
    {
      "cell_type": "markdown",
      "source": [
        "# Фунцкия за превеждане на име\n",
        "\n",
        "Тази функция превежда имена от различни езици на английски - това позволява да имаме по-коректни данни.\n",
        "\n",
        "С помощщта на предефинират \"translation_mapping\" dictionary, може да забележим, че има 4 имена, които не са написани на английски.\n"
      ],
      "metadata": {
        "id": "-DKxiYb2S9IA"
      }
    },
    {
      "cell_type": "code",
      "source": [
        "# Mapping wrong Pokemon names to English names\n",
        "translation_mapping = {\n",
        "    'fushigisou': 'Ivysaur',  # Japanese\n",
        "    'herbizarre': 'Venusaur',  # French\n",
        "    'farfetchd': 'Farfetch\\'d', #apostrophe is part of the name\n",
        "    'simight': 'Gardevoir' # Japanese\n",
        "    # Hope these are all\n",
        "}\n",
        "\n",
        "\n"
      ],
      "metadata": {
        "id": "rytB52Z3JG4s"
      },
      "execution_count": null,
      "outputs": []
    },
    {
      "cell_type": "code",
      "source": [
        "def translate_data():\n",
        "    new_changes = changes.copy()\n",
        "    translated_rows = []\n",
        "    for row in changes.values():\n",
        "        translated_name = translation_mapping.get(row['name'], row['name'])\n",
        "        if translated_name != row['name']:\n",
        "            row['old_name'] = row['name']\n",
        "            row['name'] = translated_name\n",
        "            translated_rows.append(row)\n",
        "            new_changes[translated_name] = row\n",
        "            del new_changes[row['old_name']]\n",
        "\n",
        "    print(\"Translated data:\")\n",
        "    print(\"{:<15} {:<15} {:<7} {:<7} {:<10} {:<15} {:<3} {:<5} {:<7} {:<6} {:<6} {:<5}\".format(\n",
        "        'Old Name', 'Name', 'Height', 'Weight', 'Type', 'Secondary Type', 'HP', 'Attack', 'Defense', 'Sp Atk', 'Sp Def', 'Speed'))\n",
        "\n",
        "    for row in translated_rows:\n",
        "        print(\"{:<15} {:<15} {:<7} {:<7} {:<10} {:<15} {:<3} {:<5} {:<7} {:<6} {:<6} {:<5}\".format(\n",
        "            row['old_name'], row['name'], row['height'], row['weight'], row['type'], row['secundary type'],\n",
        "            row['hp'], row['attack'], row['defense'], row['sp atk'], row['sp def'], row['speed']))\n",
        "\n",
        "    return new_changes\n"
      ],
      "metadata": {
        "id": "koCOchT0JIi8"
      },
      "execution_count": null,
      "outputs": []
    },
    {
      "cell_type": "markdown",
      "source": [
        "```if there is a name that is in other language from English (and it is written in the 'translation_mapping' dict we first change the values then add a new row and delete the old one```"
      ],
      "metadata": {
        "id": "vAu_0X8IJKQK"
      }
    },
    {
      "cell_type": "code",
      "source": [
        "changes = translate_data()"
      ],
      "metadata": {
        "id": "NQ01HsjSJLn0",
        "colab": {
          "base_uri": "https://localhost:8080/"
        },
        "outputId": "dc2e5e00-1f10-40d3-b31a-c2a9e4d455ac"
      },
      "execution_count": null,
      "outputs": [
        {
          "output_type": "stream",
          "name": "stdout",
          "text": [
            "Translated data:\n",
            "Old Name        Name            Height  Weight  Type       Secondary Type  HP  Attack Defense Sp Atk Sp Def Speed\n",
            "fushigisou      Ivysaur         10      130     grass      poison          60  62    63      80     80     60   \n",
            "herbizarre      Venusaur        15      125     grass      poison          120 60    61      76     76     58   \n",
            "farfetchd       Farfetch'd      8       150     normal     flying          52  90    55      58     62     60   \n",
            "simight         Gardevoir       20      150     psychic    fairy           128 63    63      117    108    76   \n"
          ]
        }
      ]
    },
    {
      "cell_type": "markdown",
      "source": [
        "# Функция за премахване на данни с празни полета\n",
        "\n",
        "Тази функция има за цел да коригира данните, посредством триене на редовете, които имат празни полета.\n",
        "\n",
        "От output-а на функцията може да се види, че няма ред, който няма невалидни стойности."
      ],
      "metadata": {
        "id": "lOUF_Xg5Trph"
      }
    },
    {
      "cell_type": "code",
      "source": [
        "def remove_empty_data(filename):\n",
        "    new_changes = changes.copy()\n",
        "    with open(filename, 'r', newline='') as file:\n",
        "        reader = csv.DictReader(file)\n",
        "        removed_rows = [row for row in reader if not all(row.values())]\n",
        "        file.seek(0)\n",
        "\n",
        "        cleaned_data = [row for row in reader if all(row.values())]\n",
        "\n",
        "    print(\"Data to be removed (empty rows):\")\n",
        "    print_rows(removed_rows)\n",
        "\n",
        "    for row in removed_rows:\n",
        "        if row['name'] in new_changes:\n",
        "            del new_changes[row['name']]\n",
        "\n",
        "    return new_changes\n"
      ],
      "metadata": {
        "id": "0xePXTYVJTjD"
      },
      "execution_count": null,
      "outputs": []
    },
    {
      "cell_type": "code",
      "source": [
        "save_changes_to_csv(changes)\n",
        "changes = remove_empty_data(filename_to_save)"
      ],
      "metadata": {
        "id": "O7XdznvzJYct",
        "colab": {
          "base_uri": "https://localhost:8080/"
        },
        "outputId": "210425d1-30f8-4a2c-8bc6-6d96a15fb7fe"
      },
      "execution_count": null,
      "outputs": [
        {
          "output_type": "stream",
          "name": "stdout",
          "text": [
            "Data to be removed (empty rows):\n",
            "Name            Height  Weight  Type       Secondary Type  HP  Attack Defense Sp Atk Sp Def Speed\n"
          ]
        }
      ]
    },
    {
      "cell_type": "code",
      "source": [
        "save_changes_to_csv(changes)  #saving the changes so i can continue with them  (if we want to seperate the tasks into different files)"
      ],
      "metadata": {
        "id": "EMW7Quk5JzHc"
      },
      "execution_count": null,
      "outputs": []
    },
    {
      "cell_type": "markdown",
      "source": [
        "# Task 2"
      ],
      "metadata": {
        "id": "n9qZVCfRKXrv"
      }
    },
    {
      "cell_type": "code",
      "source": [
        "import matplotlib.pyplot as plt"
      ],
      "metadata": {
        "id": "1UxIvr3mKhDs"
      },
      "execution_count": null,
      "outputs": []
    },
    {
      "cell_type": "code",
      "source": [
        "filename = '/content/sample_data/pokemon_stats_fixed.csv'\n",
        "final_rows = changes.values()"
      ],
      "metadata": {
        "id": "mUVuL3RLKkq1"
      },
      "execution_count": null,
      "outputs": []
    },
    {
      "cell_type": "markdown",
      "source": [
        "# Функция за изкарване на най-срещания вид\n",
        "\n",
        "Тази фунцкия има за цел да мине през целия поправен dataset и да върне този type, който е най-често срещан.\n",
        "\n",
        "Моите наблюдения са, че това е type water"
      ],
      "metadata": {
        "id": "Sc3ihhJcZQLT"
      }
    },
    {
      "cell_type": "code",
      "source": [
        "def most_common_type():\n",
        "    type_counts = {}\n",
        "    for row in final_rows:\n",
        "        pokemon_type = row['type']\n",
        "        type_counts[pokemon_type] = type_counts.get(pokemon_type, 0) + 1\n",
        "\n",
        "    most_common_type = max(type_counts, key=type_counts.get)\n",
        "    print(\"The most common type is:\", most_common_type)\n"
      ],
      "metadata": {
        "id": "-C6QDM9WKlJY"
      },
      "execution_count": null,
      "outputs": []
    },
    {
      "cell_type": "code",
      "source": [
        "most_common_type()"
      ],
      "metadata": {
        "id": "F2LujCwHKwTE",
        "colab": {
          "base_uri": "https://localhost:8080/"
        },
        "outputId": "32a463a6-e9a5-4193-d19b-5a216af80c7e"
      },
      "execution_count": null,
      "outputs": [
        {
          "output_type": "stream",
          "name": "stdout",
          "text": [
            "The most common type is: water\n"
          ]
        }
      ]
    },
    {
      "cell_type": "markdown",
      "source": [
        "# Функция за израване на колко пъти се среща типът posion\n",
        "\n",
        "Тази фунцкия има за цел да мине през целия поправен dataset и да върне броя пъти, в които се е срещнал типът poison\n",
        "\n",
        "Моите наблюдения са, че това са 35 пъти."
      ],
      "metadata": {
        "id": "II7A1dhBZl9R"
      }
    },
    {
      "cell_type": "code",
      "source": [
        "def count_poison_type():\n",
        "    poison_count = 0\n",
        "    for row in final_rows:\n",
        "        if row['type'] == 'poison' or row['secundary type'] == 'poison':  #mai trqbva i sec\n",
        "            poison_count += 1\n",
        "\n",
        "    print(\"Number of Pokemon that are Poison type:\", poison_count)"
      ],
      "metadata": {
        "id": "H7Mxny5lK2rN"
      },
      "execution_count": null,
      "outputs": []
    },
    {
      "cell_type": "code",
      "source": [
        "count_poison_type()"
      ],
      "metadata": {
        "id": "nyKIus_sK6YR",
        "colab": {
          "base_uri": "https://localhost:8080/"
        },
        "outputId": "5bc4f99d-fd97-41c9-8633-2307b3adbe5c"
      },
      "execution_count": null,
      "outputs": [
        {
          "output_type": "stream",
          "name": "stdout",
          "text": [
            "Number of Pokemon that are Poison type: 71\n"
          ]
        }
      ]
    },
    {
      "cell_type": "markdown",
      "source": [
        "# Фунцкия за намиране на вероятността покемон да е от тип water и вторият му тип да е posion  \n",
        "\n",
        "Тази фунцкия минава през всички покемони и се спира на тези, които имат първи тип - water, след което проверява дали вторият им тип е poison.\n",
        "\n",
        "Наблюденитето ми от тази фунцкия е, че тази вероятност е 0.024390243902439025"
      ],
      "metadata": {
        "id": "J_kJLLi7Z6j2"
      }
    },
    {
      "cell_type": "code",
      "source": [
        "def chance_water_is_poison():\n",
        "    water_count = 0\n",
        "    water_poison_count = 0\n",
        "\n",
        "    for row in final_rows:\n",
        "        if row['type'] == 'water':\n",
        "            water_count += 1\n",
        "            if row['secundary type'] == 'poison':\n",
        "                water_poison_count += 1\n",
        "\n",
        "    if water_count == 0:\n",
        "        probability = 0\n",
        "    else:\n",
        "        probability = water_poison_count / water_count            #classical probability\n",
        "\n",
        "    print(\"Probability that a Water-type Pokemon is also Poison-type:\", probability)\n"
      ],
      "metadata": {
        "id": "9tjOMBuEK-KD"
      },
      "execution_count": null,
      "outputs": []
    },
    {
      "cell_type": "code",
      "source": [
        "chance_water_is_poison()"
      ],
      "metadata": {
        "id": "6PU8fZipLUO1",
        "colab": {
          "base_uri": "https://localhost:8080/"
        },
        "outputId": "903b3b2a-2255-4be0-8781-bbe65cba3ce6"
      },
      "execution_count": null,
      "outputs": [
        {
          "output_type": "stream",
          "name": "stdout",
          "text": [
            "Probability that a Water-type Pokemon is also Poison-type: 0.024390243902439025\n"
          ]
        }
      ]
    },
    {
      "cell_type": "markdown",
      "source": [
        "# Функция за изобразяване на типовете покемони\n",
        "\n",
        "Тази фунцкия има за цел да изобрази всички възможни типове на покемоните и да покаже тяхната бройка.\n",
        "\n",
        "Наблюденията ми показват, че най-много се среща water (както видяхме по-горе) с около 120 срещания, а най-малко flying - с около 10-тина."
      ],
      "metadata": {
        "id": "ScPabhPZatA6"
      }
    },
    {
      "cell_type": "code",
      "source": [
        "def type_histogram():\n",
        "    type_counts = {}\n",
        "\n",
        "    for row in final_rows:\n",
        "        pokemon_type = row['type']\n",
        "        type_counts[pokemon_type] = type_counts.get(pokemon_type, 0) + 1\n",
        "\n",
        "    types = list(type_counts.keys())\n",
        "    counts = list(type_counts.values())\n",
        "\n",
        "    most_common_type = max(type_counts, key=type_counts.get)\n",
        "    print(\"Most common type:\", most_common_type)\n",
        "\n",
        "    plt.figure(figsize=(10, 6))\n",
        "    plt.bar(types, counts, color='skyblue')\n",
        "    plt.xlabel('Type')\n",
        "    plt.ylabel('Count')\n",
        "    plt.title('Histogram of Types of Pokemon')\n",
        "    plt.xticks(rotation=45)\n",
        "    plt.tight_layout()\n",
        "    plt.show()\n"
      ],
      "metadata": {
        "id": "qFqRCm6FLXao"
      },
      "execution_count": null,
      "outputs": []
    },
    {
      "cell_type": "code",
      "source": [
        "type_histogram()"
      ],
      "metadata": {
        "id": "gXvYB-KjLZP0",
        "colab": {
          "base_uri": "https://localhost:8080/",
          "height": 624
        },
        "outputId": "d87b356f-0e1c-4640-b852-a4674b1caa57"
      },
      "execution_count": null,
      "outputs": [
        {
          "output_type": "stream",
          "name": "stdout",
          "text": [
            "Most common type: water\n"
          ]
        },
        {
          "output_type": "display_data",
          "data": {
            "text/plain": [
              "<Figure size 1000x600 with 1 Axes>"
            ],
            "image/png": "[encoded data removed]"
          },
          "metadata": {}
        }
      ]
    },
    {
      "cell_type": "markdown",
      "source": [
        "# Функция за изобразяване на вторите типовете покемони\n",
        "\n",
        "Тази фунцкия има за цел да изобрази всички възможни втори типове на покемоните и да покаже тяхната бройка.\n",
        "\n",
        "Наблюденията ми показват, че най-много се среща none, т.е да нямат втори тип с над 400 срещания, а най-малко normal - с около 15-тина."
      ],
      "metadata": {
        "id": "YRybOYtabNMb"
      }
    },
    {
      "cell_type": "code",
      "source": [
        "def secondary_type_histogram():\n",
        "    type_counts = {}\n",
        "\n",
        "    for row in final_rows:\n",
        "        secondary_type = row['secundary type']\n",
        "        if secondary_type:\n",
        "            type_counts[secondary_type] = type_counts.get(secondary_type, 0) + 1\n",
        "\n",
        "    most_common_secondary_type = max(type_counts, key=type_counts.get)\n",
        "    print(\"Most common secondary type:\", most_common_secondary_type)\n",
        "\n",
        "    types = list(type_counts.keys())\n",
        "    counts = list(type_counts.values())\n",
        "\n",
        "    plt.figure(figsize=(10, 6))\n",
        "    plt.bar(types, counts, color='skyblue')\n",
        "    plt.xlabel('Secondary Type')\n",
        "    plt.ylabel('Count')\n",
        "    plt.title('Histogram of Secondary Types of Pokemon')\n",
        "    plt.xticks(rotation=45)\n",
        "    plt.tight_layout()\n",
        "    plt.show()"
      ],
      "metadata": {
        "id": "q-VrXeeeLcEq"
      },
      "execution_count": null,
      "outputs": []
    },
    {
      "cell_type": "code",
      "source": [
        "secondary_type_histogram()"
      ],
      "metadata": {
        "id": "NSGNR07OLdI4",
        "colab": {
          "base_uri": "https://localhost:8080/",
          "height": 624
        },
        "outputId": "80424247-0a80-4734-8aca-3935bc3a47c1"
      },
      "execution_count": null,
      "outputs": [
        {
          "output_type": "stream",
          "name": "stdout",
          "text": [
            "Most common secondary type: none\n"
          ]
        },
        {
          "output_type": "display_data",
          "data": {
            "text/plain": [
              "<Figure size 1000x600 with 1 Axes>"
            ],
            "image/png": "[encoded data removed]"
          },
          "metadata": {}
        }
      ]
    },
    {
      "cell_type": "markdown",
      "source": [],
      "metadata": {
        "id": "gPusOw-k3-ua"
      }
    },
    {
      "cell_type": "markdown",
      "source": [
        "# Task 3\n"
      ],
      "metadata": {
        "id": "dG8fV05D4AYn"
      }
    },
    {
      "cell_type": "code",
      "source": [
        "import statistics\n",
        "# добавяне на нужни библиотеки"
      ],
      "metadata": {
        "id": "zAg-Z7j_5l02"
      },
      "execution_count": null,
      "outputs": []
    },
    {
      "cell_type": "markdown",
      "source": [
        "# Функция за изчисляване на средноаритметичното на атаката на покемоните\n",
        "\n",
        "Тази функция има за цел да изчисли средноаритемтично колко голяма е атаките на всички покемони.\n",
        "Наблюденията ми от фунцкията са, че средноаритметичната атака е 76.25"
      ],
      "metadata": {
        "id": "CT11ruoE4PuF"
      }
    },
    {
      "cell_type": "code",
      "source": [
        "def calculate_average_attack():\n",
        "    total_attack = 0\n",
        "    num_pokemon = 0\n",
        "\n",
        "    for row in final_rows:\n",
        "        total_attack += int(row['attack'])\n",
        "        num_pokemon += 1\n",
        "\n",
        "    average_attack = total_attack / num_pokemon\n",
        "    return average_attack\n"
      ],
      "metadata": {
        "id": "3RA5dxnR4Dzo"
      },
      "execution_count": null,
      "outputs": []
    },
    {
      "cell_type": "code",
      "source": [
        "print(calculate_average_attack())\n"
      ],
      "metadata": {
        "id": "_dH5mhxb4hFV",
        "colab": {
          "base_uri": "https://localhost:8080/"
        },
        "outputId": "48cb8110-2a64-4667-bb0e-85c3ebfca83c"
      },
      "execution_count": null,
      "outputs": [
        {
          "output_type": "stream",
          "name": "stdout",
          "text": [
            "76.25531914893617\n"
          ]
        }
      ]
    },
    {
      "cell_type": "markdown",
      "source": [
        "# Функция за изобразяване на средноариметичните стойности на всяка числова колона\n",
        "Тази функция има за цел взимане на средноариметичните стойности на \"height\", \"weight\", \"hp\", \"attack\", \"defense\", \"sp attack\", \"sp defense\" и \"speed\" и ги изобразява чрез сълбова диаграма.\n",
        "Наблюденията ми по фунцкията са, че най-голяма средноаритметична стойност има \"weight\" с над 600, а най-малко е \"height\" - под 50.\n"
      ],
      "metadata": {
        "id": "UYNiJJdV5Sso"
      }
    },
    {
      "cell_type": "code",
      "source": [
        "def plot_arithmetic_means(arithmetic_means):\n",
        "    plt.figure(figsize=(10, 6))\n",
        "    plt.bar(arithmetic_means.keys(), arithmetic_means.values(), color='skyblue')\n",
        "    plt.xlabel('Numerical Variables')\n",
        "    plt.ylabel('Arithmetic Mean')\n",
        "    plt.title('Arithmetic Means of Numerical Variables')\n",
        "    plt.xticks(rotation=45, ha='right')\n",
        "    plt.tight_layout()\n",
        "    plt.show()\n"
      ],
      "metadata": {
        "id": "4KkgtxQI5wQM"
      },
      "execution_count": null,
      "outputs": []
    },
    {
      "cell_type": "code",
      "source": [
        "def calculate_arithmetic_means(filename):\n",
        "    numerical_variables = {}\n",
        "    with open(filename, 'r', newline='') as file:\n",
        "        reader = csv.DictReader(file)\n",
        "        for row in reader:\n",
        "            for key, value in row.items():\n",
        "                if key != 'name' and key != 'type' and key != 'secundary type':\n",
        "                    if key not in numerical_variables:\n",
        "                        numerical_variables[key] = []\n",
        "                    numerical_variables[key].append(int(value))\n",
        "\n",
        "    arithmetic_means = {}\n",
        "    for key, values in numerical_variables.items():\n",
        "        arithmetic_means[key] = statistics.mean(values)\n",
        "\n",
        "    return arithmetic_means, numerical_variables\n"
      ],
      "metadata": {
        "id": "vRz4odit5sx0"
      },
      "execution_count": null,
      "outputs": []
    },
    {
      "cell_type": "code",
      "source": [
        "arithmetic_means, numerical_variables = calculate_arithmetic_means(filename)\n",
        "plot_arithmetic_means(arithmetic_means)\n"
      ],
      "metadata": {
        "id": "3tAmPJDI6KSK",
        "colab": {
          "base_uri": "https://localhost:8080/",
          "height": 607
        },
        "outputId": "532c5569-0cf9-49ed-acd7-237047a0ad04"
      },
      "execution_count": null,
      "outputs": [
        {
          "output_type": "display_data",
          "data": {
            "text/plain": [
              "<Figure size 1000x600 with 1 Axes>"
            ],
            "image/png": "[encoded data removed]"
          },
          "metadata": {}
        }
      ]
    },
    {
      "cell_type": "markdown",
      "source": [
        "# Функция за проверяване за съвпадение между модата и със средноаритметичните стойности на всички числови променливи\n",
        "\n",
        "Тази функция ползва вече изчислената средна стойност от предходната функция и на база нея с помощщта на стандартната библиотека ``statistics`` проверява дали модата съвпада средноаритметичните стойности на всички числови променливи.\n",
        "\n",
        "Наблюденията ми по тази функция са, че нито едно не съвпада"
      ],
      "metadata": {
        "id": "CSbBurR4_UCr"
      }
    },
    {
      "cell_type": "code",
      "source": [
        "def check_mode_matches_arithmetic_mean(numerical_variables):\n",
        "    mode_matches_mean = {}\n",
        "    for key, values in numerical_variables.items():\n",
        "        mode = statistics.mode(values)\n",
        "        mean = statistics.mean(values)\n",
        "        mode_matches_mean[key] = mode == mean\n",
        "\n",
        "    print(\"Mode Matches Arithmetic Mean:\")\n",
        "    for key, value in mode_matches_mean.items():\n",
        "        print(f\"{key}: {value}\")\n"
      ],
      "metadata": {
        "id": "GWGPkxTS_ScH"
      },
      "execution_count": null,
      "outputs": []
    },
    {
      "cell_type": "code",
      "source": [
        "check_mode_matches_arithmetic_mean(numerical_variables)\n",
        "\n"
      ],
      "metadata": {
        "id": "Ol1oL1uh_voM",
        "colab": {
          "base_uri": "https://localhost:8080/"
        },
        "outputId": "38c2fa33-876a-4759-abe2-706752926d3c"
      },
      "execution_count": null,
      "outputs": [
        {
          "output_type": "stream",
          "name": "stdout",
          "text": [
            "Mode Matches Arithmetic Mean:\n",
            "height: False\n",
            "weight: False\n",
            "hp: False\n",
            "attack: False\n",
            "defense: False\n",
            "sp atk: False\n",
            "sp def: False\n",
            "speed: False\n"
          ]
        }
      ]
    },
    {
      "cell_type": "markdown",
      "source": [
        "# Функция за изчисляване на линейна регресия\n",
        "\n",
        "Тази функция приема параметри х и y и смята."
      ],
      "metadata": {
        "id": "ITl53SULzWXj"
      }
    },
    {
      "cell_type": "code",
      "source": [
        "def linear_regression(x, y):\n",
        "    n = len(x)\n",
        "    sum_x = sum(x)\n",
        "    sum_y = sum(y)\n",
        "    sum_xy = sum(x_i * y_i for x_i, y_i in zip(x, y))\n",
        "    sum_x_squared = sum(x_i ** 2 for x_i in x)\n",
        "    numerator = n * sum_xy - sum_x * sum_y\n",
        "    denominator = n * sum_x_squared - sum_x ** 2\n",
        "\n",
        "    slope = numerator / denominator\n",
        "    intercept = (sum_y - slope * sum_x) / n\n",
        "\n",
        "    return slope, intercept\n"
      ],
      "metadata": {
        "id": "5ckyeyMgNk47"
      },
      "execution_count": null,
      "outputs": []
    },
    {
      "cell_type": "markdown",
      "source": [
        "# Фунцкия за предвиждане на височина на база линейна регресия и стойността на атаката\n",
        "Тази фунцкия използва линейна регресия и използва параметрите \"attack\" и \"height\", за да предвиди, колко би бил висок един покемон с атака 85.\n",
        "\n",
        "Моите наблюдения са, че този покемон ще е около 13 мерни единици."
      ],
      "metadata": {
        "id": "juyaPzKrBZ6a"
      }
    },
    {
      "cell_type": "code",
      "source": [
        "def predict_height(attack_value):\n",
        "    attack = []\n",
        "    height = []\n",
        "\n",
        "    for row in final_rows:\n",
        "      attack.append(int(row['attack']))\n",
        "      height.append(int(row['height']))\n",
        "\n",
        "    slope, intercept = linear_regression(attack, height)\n",
        "    predicted_height = slope * attack_value + intercept\n",
        "\n",
        "    return predicted_height\n"
      ],
      "metadata": {
        "id": "akF2EJklBZnR"
      },
      "execution_count": null,
      "outputs": []
    },
    {
      "cell_type": "code",
      "source": [
        "print(f\"Predicted height of a Pokemon with 85 attack: {predict_height(85)}\")\n"
      ],
      "metadata": {
        "id": "p_Wh98d6B8li",
        "colab": {
          "base_uri": "https://localhost:8080/"
        },
        "outputId": "623c2b24-9ab3-48a7-887a-9739a18a6262"
      },
      "execution_count": null,
      "outputs": [
        {
          "output_type": "stream",
          "name": "stdout",
          "text": [
            "Predicted height of a Pokemon with 85 attack: 13.213722575774858\n"
          ]
        }
      ]
    },
    {
      "cell_type": "markdown",
      "source": [
        "# Фунцкия за анализиране на теглото спрямо неговия special defense\n",
        "\n",
        "Тази фунцкия използва коефициентът на корелация на Пиърсън, която има за цел да върне този коефициент.\n",
        "\n",
        "Моите наблюдения са, че коефициентът между теглото и special defense-а е около 2.68"
      ],
      "metadata": {
        "id": "9Ew5uzE7CebQ"
      }
    },
    {
      "cell_type": "code",
      "source": [
        "def analyze_weight():\n",
        "    special_defense = []\n",
        "    weight = []\n",
        "    for row in final_rows:\n",
        "        special_defense.append(int(row['sp def']))\n",
        "        weight.append(int(row['weight']))\n",
        "\n",
        "    slope, intercept = linear_regression(special_defense, weight)\n",
        "\n",
        "    plt.scatter(special_defense, weight)\n",
        "    plt.plot(special_defense, [slope * x + intercept for x in special_defense], color='red')\n",
        "    plt.xlabel('Special Defense')\n",
        "    plt.ylabel('Weight')\n",
        "    plt.title('Weight vs Special Defense with Linear Regression')\n",
        "    plt.show()\n"
      ],
      "metadata": {
        "id": "lvkfG7xNC4IZ"
      },
      "execution_count": null,
      "outputs": []
    },
    {
      "cell_type": "code",
      "source": [
        "analyze_weight()"
      ],
      "metadata": {
        "id": "VcGZq7bLC7ws",
        "colab": {
          "base_uri": "https://localhost:8080/",
          "height": 472
        },
        "outputId": "ef05fd49-8a7d-4e93-f993-d5c4e8a2c1a5"
      },
      "execution_count": null,
      "outputs": [
        {
          "output_type": "display_data",
          "data": {
            "text/plain": [
              "<Figure size 640x480 with 1 Axes>"
            ],
            "image/png": "[encoded data removed]"
          },
          "metadata": {}
        }
      ]
    }
  ]
}